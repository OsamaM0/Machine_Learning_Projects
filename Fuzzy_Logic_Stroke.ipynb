{
  "cells": [
    {
      "cell_type": "markdown",
      "metadata": {
        "id": "view-in-github",
        "colab_type": "text"
      },
      "source": [
        "<a href=\"https://colab.research.google.com/github/OsamaM0/Machine_Learning_Projects/blob/Optimization-Projects-(Soft-Computing)/Fuzzy_Logic_Stroke.ipynb\" target=\"_parent\"><img src=\"https://colab.research.google.com/assets/colab-badge.svg\" alt=\"Open In Colab\"/></a>"
      ]
    },
    {
      "cell_type": "markdown",
      "metadata": {
        "id": "Q419nNbYYrtx"
      },
      "source": [
        "# Importing Library "
      ]
    },
    {
      "cell_type": "code",
      "execution_count": null,
      "metadata": {
        "id": "zfspPD1VYvTh"
      },
      "outputs": [],
      "source": [
        "import pandas as pd \n",
        "import numpy as np\n",
        "import seaborn as sns\n",
        "import matplotlib.pyplot as plt\n",
        "from sklearn.feature_selection import *\n",
        "\n",
        "%matplotlib inline \n",
        "import warnings\n",
        "warnings.filterwarnings(\"ignore\")"
      ]
    },
    {
      "cell_type": "markdown",
      "metadata": {
        "id": "_7n4mCfSYIHj"
      },
      "source": [
        "\n",
        "\n",
        "\n",
        "# Data preparation \n",
        "\n",
        "\n"
      ]
    },
    {
      "cell_type": "code",
      "execution_count": null,
      "metadata": {
        "colab": {
          "base_uri": "https://localhost:8080/",
          "height": 206
        },
        "id": "leLOU8HHYFnU",
        "outputId": "a34a12fb-0f29-47e7-bfa0-28fdd416a5d7"
      },
      "outputs": [
        {
          "output_type": "execute_result",
          "data": {
            "text/plain": [
              "    age  hypertension  heart_disease  avg_glucose_level   bmi  stroke\n",
              "0  67.0             0              1             228.69  36.6       1\n",
              "1  61.0             0              0             202.21   NaN       1\n",
              "2  80.0             0              1             105.92  32.5       1\n",
              "3  49.0             0              0             171.23  34.4       1\n",
              "4  79.0             1              0             174.12  24.0       1"
            ],
            "text/html": [
              "\n",
              "  <div id=\"df-aad974a1-2043-4375-b55e-1cc57a2c2b9e\">\n",
              "    <div class=\"colab-df-container\">\n",
              "      <div>\n",
              "<style scoped>\n",
              "    .dataframe tbody tr th:only-of-type {\n",
              "        vertical-align: middle;\n",
              "    }\n",
              "\n",
              "    .dataframe tbody tr th {\n",
              "        vertical-align: top;\n",
              "    }\n",
              "\n",
              "    .dataframe thead th {\n",
              "        text-align: right;\n",
              "    }\n",
              "</style>\n",
              "<table border=\"1\" class=\"dataframe\">\n",
              "  <thead>\n",
              "    <tr style=\"text-align: right;\">\n",
              "      <th></th>\n",
              "      <th>age</th>\n",
              "      <th>hypertension</th>\n",
              "      <th>heart_disease</th>\n",
              "      <th>avg_glucose_level</th>\n",
              "      <th>bmi</th>\n",
              "      <th>stroke</th>\n",
              "    </tr>\n",
              "  </thead>\n",
              "  <tbody>\n",
              "    <tr>\n",
              "      <th>0</th>\n",
              "      <td>67.0</td>\n",
              "      <td>0</td>\n",
              "      <td>1</td>\n",
              "      <td>228.69</td>\n",
              "      <td>36.6</td>\n",
              "      <td>1</td>\n",
              "    </tr>\n",
              "    <tr>\n",
              "      <th>1</th>\n",
              "      <td>61.0</td>\n",
              "      <td>0</td>\n",
              "      <td>0</td>\n",
              "      <td>202.21</td>\n",
              "      <td>NaN</td>\n",
              "      <td>1</td>\n",
              "    </tr>\n",
              "    <tr>\n",
              "      <th>2</th>\n",
              "      <td>80.0</td>\n",
              "      <td>0</td>\n",
              "      <td>1</td>\n",
              "      <td>105.92</td>\n",
              "      <td>32.5</td>\n",
              "      <td>1</td>\n",
              "    </tr>\n",
              "    <tr>\n",
              "      <th>3</th>\n",
              "      <td>49.0</td>\n",
              "      <td>0</td>\n",
              "      <td>0</td>\n",
              "      <td>171.23</td>\n",
              "      <td>34.4</td>\n",
              "      <td>1</td>\n",
              "    </tr>\n",
              "    <tr>\n",
              "      <th>4</th>\n",
              "      <td>79.0</td>\n",
              "      <td>1</td>\n",
              "      <td>0</td>\n",
              "      <td>174.12</td>\n",
              "      <td>24.0</td>\n",
              "      <td>1</td>\n",
              "    </tr>\n",
              "  </tbody>\n",
              "</table>\n",
              "</div>\n",
              "      <button class=\"colab-df-convert\" onclick=\"convertToInteractive('df-aad974a1-2043-4375-b55e-1cc57a2c2b9e')\"\n",
              "              title=\"Convert this dataframe to an interactive table.\"\n",
              "              style=\"display:none;\">\n",
              "        \n",
              "  <svg xmlns=\"http://www.w3.org/2000/svg\" height=\"24px\"viewBox=\"0 0 24 24\"\n",
              "       width=\"24px\">\n",
              "    <path d=\"M0 0h24v24H0V0z\" fill=\"none\"/>\n",
              "    <path d=\"M18.56 5.44l.94 2.06.94-2.06 2.06-.94-2.06-.94-.94-2.06-.94 2.06-2.06.94zm-11 1L8.5 8.5l.94-2.06 2.06-.94-2.06-.94L8.5 2.5l-.94 2.06-2.06.94zm10 10l.94 2.06.94-2.06 2.06-.94-2.06-.94-.94-2.06-.94 2.06-2.06.94z\"/><path d=\"M17.41 7.96l-1.37-1.37c-.4-.4-.92-.59-1.43-.59-.52 0-1.04.2-1.43.59L10.3 9.45l-7.72 7.72c-.78.78-.78 2.05 0 2.83L4 21.41c.39.39.9.59 1.41.59.51 0 1.02-.2 1.41-.59l7.78-7.78 2.81-2.81c.8-.78.8-2.07 0-2.86zM5.41 20L4 18.59l7.72-7.72 1.47 1.35L5.41 20z\"/>\n",
              "  </svg>\n",
              "      </button>\n",
              "      \n",
              "  <style>\n",
              "    .colab-df-container {\n",
              "      display:flex;\n",
              "      flex-wrap:wrap;\n",
              "      gap: 12px;\n",
              "    }\n",
              "\n",
              "    .colab-df-convert {\n",
              "      background-color: #E8F0FE;\n",
              "      border: none;\n",
              "      border-radius: 50%;\n",
              "      cursor: pointer;\n",
              "      display: none;\n",
              "      fill: #1967D2;\n",
              "      height: 32px;\n",
              "      padding: 0 0 0 0;\n",
              "      width: 32px;\n",
              "    }\n",
              "\n",
              "    .colab-df-convert:hover {\n",
              "      background-color: #E2EBFA;\n",
              "      box-shadow: 0px 1px 2px rgba(60, 64, 67, 0.3), 0px 1px 3px 1px rgba(60, 64, 67, 0.15);\n",
              "      fill: #174EA6;\n",
              "    }\n",
              "\n",
              "    [theme=dark] .colab-df-convert {\n",
              "      background-color: #3B4455;\n",
              "      fill: #D2E3FC;\n",
              "    }\n",
              "\n",
              "    [theme=dark] .colab-df-convert:hover {\n",
              "      background-color: #434B5C;\n",
              "      box-shadow: 0px 1px 3px 1px rgba(0, 0, 0, 0.15);\n",
              "      filter: drop-shadow(0px 1px 2px rgba(0, 0, 0, 0.3));\n",
              "      fill: #FFFFFF;\n",
              "    }\n",
              "  </style>\n",
              "\n",
              "      <script>\n",
              "        const buttonEl =\n",
              "          document.querySelector('#df-aad974a1-2043-4375-b55e-1cc57a2c2b9e button.colab-df-convert');\n",
              "        buttonEl.style.display =\n",
              "          google.colab.kernel.accessAllowed ? 'block' : 'none';\n",
              "\n",
              "        async function convertToInteractive(key) {\n",
              "          const element = document.querySelector('#df-aad974a1-2043-4375-b55e-1cc57a2c2b9e');\n",
              "          const dataTable =\n",
              "            await google.colab.kernel.invokeFunction('convertToInteractive',\n",
              "                                                     [key], {});\n",
              "          if (!dataTable) return;\n",
              "\n",
              "          const docLinkHtml = 'Like what you see? Visit the ' +\n",
              "            '<a target=\"_blank\" href=https://colab.research.google.com/notebooks/data_table.ipynb>data table notebook</a>'\n",
              "            + ' to learn more about interactive tables.';\n",
              "          element.innerHTML = '';\n",
              "          dataTable['output_type'] = 'display_data';\n",
              "          await google.colab.output.renderOutput(dataTable, element);\n",
              "          const docLink = document.createElement('div');\n",
              "          docLink.innerHTML = docLinkHtml;\n",
              "          element.appendChild(docLink);\n",
              "        }\n",
              "      </script>\n",
              "    </div>\n",
              "  </div>\n",
              "  "
            ]
          },
          "metadata": {},
          "execution_count": 7
        }
      ],
      "source": [
        "data = pd.read_csv(r\"/content/healthcare-dataset-stroke-data.csv\")\n",
        "df=data[['age', 'hypertension', 'heart_disease', 'avg_glucose_level', 'bmi','stroke']]\n",
        "df.head()"
      ]
    },
    {
      "cell_type": "markdown",
      "metadata": {
        "id": "Oy3KExHlaF-Y"
      },
      "source": [
        "# Encoding The Non Numerically Value\n",
        "\n",
        "\n",
        "\n"
      ]
    },
    {
      "cell_type": "code",
      "execution_count": null,
      "metadata": {
        "id": "67idSTCtaNyn"
      },
      "outputs": [],
      "source": [
        "from sklearn.preprocessing import LabelEncoder\n",
        "le=LabelEncoder()\n",
        "df['gender']=le.fit_transform(data['gender'])\n",
        "df['ever_married']=le.fit_transform(data['ever_married'])\n",
        "df['work_type']=le.fit_transform(data['work_type'])\n",
        "df['Residence_type']=le.fit_transform(data['Residence_type'])\n",
        "df['smoking_status']=le.fit_transform(data['smoking_status'])\n"
      ]
    },
    {
      "cell_type": "code",
      "source": [
        "df.head()"
      ],
      "metadata": {
        "colab": {
          "base_uri": "https://localhost:8080/",
          "height": 206
        },
        "id": "wjy523UJ-_s-",
        "outputId": "14b1fc3f-b3ef-4dc5-e539-771b2895d218"
      },
      "execution_count": null,
      "outputs": [
        {
          "output_type": "execute_result",
          "data": {
            "text/plain": [
              "    age  hypertension  heart_disease  avg_glucose_level   bmi  stroke  gender  \\\n",
              "0  67.0             0              1             228.69  36.6       1       1   \n",
              "1  61.0             0              0             202.21   NaN       1       0   \n",
              "2  80.0             0              1             105.92  32.5       1       1   \n",
              "3  49.0             0              0             171.23  34.4       1       0   \n",
              "4  79.0             1              0             174.12  24.0       1       0   \n",
              "\n",
              "   ever_married  work_type  Residence_type  smoking_status  \n",
              "0             1          2               1               1  \n",
              "1             1          3               0               2  \n",
              "2             1          2               0               2  \n",
              "3             1          2               1               3  \n",
              "4             1          3               0               2  "
            ],
            "text/html": [
              "\n",
              "  <div id=\"df-ebac986c-41dc-48c8-ada5-f1d714b4a5b5\">\n",
              "    <div class=\"colab-df-container\">\n",
              "      <div>\n",
              "<style scoped>\n",
              "    .dataframe tbody tr th:only-of-type {\n",
              "        vertical-align: middle;\n",
              "    }\n",
              "\n",
              "    .dataframe tbody tr th {\n",
              "        vertical-align: top;\n",
              "    }\n",
              "\n",
              "    .dataframe thead th {\n",
              "        text-align: right;\n",
              "    }\n",
              "</style>\n",
              "<table border=\"1\" class=\"dataframe\">\n",
              "  <thead>\n",
              "    <tr style=\"text-align: right;\">\n",
              "      <th></th>\n",
              "      <th>age</th>\n",
              "      <th>hypertension</th>\n",
              "      <th>heart_disease</th>\n",
              "      <th>avg_glucose_level</th>\n",
              "      <th>bmi</th>\n",
              "      <th>stroke</th>\n",
              "      <th>gender</th>\n",
              "      <th>ever_married</th>\n",
              "      <th>work_type</th>\n",
              "      <th>Residence_type</th>\n",
              "      <th>smoking_status</th>\n",
              "    </tr>\n",
              "  </thead>\n",
              "  <tbody>\n",
              "    <tr>\n",
              "      <th>0</th>\n",
              "      <td>67.0</td>\n",
              "      <td>0</td>\n",
              "      <td>1</td>\n",
              "      <td>228.69</td>\n",
              "      <td>36.6</td>\n",
              "      <td>1</td>\n",
              "      <td>1</td>\n",
              "      <td>1</td>\n",
              "      <td>2</td>\n",
              "      <td>1</td>\n",
              "      <td>1</td>\n",
              "    </tr>\n",
              "    <tr>\n",
              "      <th>1</th>\n",
              "      <td>61.0</td>\n",
              "      <td>0</td>\n",
              "      <td>0</td>\n",
              "      <td>202.21</td>\n",
              "      <td>NaN</td>\n",
              "      <td>1</td>\n",
              "      <td>0</td>\n",
              "      <td>1</td>\n",
              "      <td>3</td>\n",
              "      <td>0</td>\n",
              "      <td>2</td>\n",
              "    </tr>\n",
              "    <tr>\n",
              "      <th>2</th>\n",
              "      <td>80.0</td>\n",
              "      <td>0</td>\n",
              "      <td>1</td>\n",
              "      <td>105.92</td>\n",
              "      <td>32.5</td>\n",
              "      <td>1</td>\n",
              "      <td>1</td>\n",
              "      <td>1</td>\n",
              "      <td>2</td>\n",
              "      <td>0</td>\n",
              "      <td>2</td>\n",
              "    </tr>\n",
              "    <tr>\n",
              "      <th>3</th>\n",
              "      <td>49.0</td>\n",
              "      <td>0</td>\n",
              "      <td>0</td>\n",
              "      <td>171.23</td>\n",
              "      <td>34.4</td>\n",
              "      <td>1</td>\n",
              "      <td>0</td>\n",
              "      <td>1</td>\n",
              "      <td>2</td>\n",
              "      <td>1</td>\n",
              "      <td>3</td>\n",
              "    </tr>\n",
              "    <tr>\n",
              "      <th>4</th>\n",
              "      <td>79.0</td>\n",
              "      <td>1</td>\n",
              "      <td>0</td>\n",
              "      <td>174.12</td>\n",
              "      <td>24.0</td>\n",
              "      <td>1</td>\n",
              "      <td>0</td>\n",
              "      <td>1</td>\n",
              "      <td>3</td>\n",
              "      <td>0</td>\n",
              "      <td>2</td>\n",
              "    </tr>\n",
              "  </tbody>\n",
              "</table>\n",
              "</div>\n",
              "      <button class=\"colab-df-convert\" onclick=\"convertToInteractive('df-ebac986c-41dc-48c8-ada5-f1d714b4a5b5')\"\n",
              "              title=\"Convert this dataframe to an interactive table.\"\n",
              "              style=\"display:none;\">\n",
              "        \n",
              "  <svg xmlns=\"http://www.w3.org/2000/svg\" height=\"24px\"viewBox=\"0 0 24 24\"\n",
              "       width=\"24px\">\n",
              "    <path d=\"M0 0h24v24H0V0z\" fill=\"none\"/>\n",
              "    <path d=\"M18.56 5.44l.94 2.06.94-2.06 2.06-.94-2.06-.94-.94-2.06-.94 2.06-2.06.94zm-11 1L8.5 8.5l.94-2.06 2.06-.94-2.06-.94L8.5 2.5l-.94 2.06-2.06.94zm10 10l.94 2.06.94-2.06 2.06-.94-2.06-.94-.94-2.06-.94 2.06-2.06.94z\"/><path d=\"M17.41 7.96l-1.37-1.37c-.4-.4-.92-.59-1.43-.59-.52 0-1.04.2-1.43.59L10.3 9.45l-7.72 7.72c-.78.78-.78 2.05 0 2.83L4 21.41c.39.39.9.59 1.41.59.51 0 1.02-.2 1.41-.59l7.78-7.78 2.81-2.81c.8-.78.8-2.07 0-2.86zM5.41 20L4 18.59l7.72-7.72 1.47 1.35L5.41 20z\"/>\n",
              "  </svg>\n",
              "      </button>\n",
              "      \n",
              "  <style>\n",
              "    .colab-df-container {\n",
              "      display:flex;\n",
              "      flex-wrap:wrap;\n",
              "      gap: 12px;\n",
              "    }\n",
              "\n",
              "    .colab-df-convert {\n",
              "      background-color: #E8F0FE;\n",
              "      border: none;\n",
              "      border-radius: 50%;\n",
              "      cursor: pointer;\n",
              "      display: none;\n",
              "      fill: #1967D2;\n",
              "      height: 32px;\n",
              "      padding: 0 0 0 0;\n",
              "      width: 32px;\n",
              "    }\n",
              "\n",
              "    .colab-df-convert:hover {\n",
              "      background-color: #E2EBFA;\n",
              "      box-shadow: 0px 1px 2px rgba(60, 64, 67, 0.3), 0px 1px 3px 1px rgba(60, 64, 67, 0.15);\n",
              "      fill: #174EA6;\n",
              "    }\n",
              "\n",
              "    [theme=dark] .colab-df-convert {\n",
              "      background-color: #3B4455;\n",
              "      fill: #D2E3FC;\n",
              "    }\n",
              "\n",
              "    [theme=dark] .colab-df-convert:hover {\n",
              "      background-color: #434B5C;\n",
              "      box-shadow: 0px 1px 3px 1px rgba(0, 0, 0, 0.15);\n",
              "      filter: drop-shadow(0px 1px 2px rgba(0, 0, 0, 0.3));\n",
              "      fill: #FFFFFF;\n",
              "    }\n",
              "  </style>\n",
              "\n",
              "      <script>\n",
              "        const buttonEl =\n",
              "          document.querySelector('#df-ebac986c-41dc-48c8-ada5-f1d714b4a5b5 button.colab-df-convert');\n",
              "        buttonEl.style.display =\n",
              "          google.colab.kernel.accessAllowed ? 'block' : 'none';\n",
              "\n",
              "        async function convertToInteractive(key) {\n",
              "          const element = document.querySelector('#df-ebac986c-41dc-48c8-ada5-f1d714b4a5b5');\n",
              "          const dataTable =\n",
              "            await google.colab.kernel.invokeFunction('convertToInteractive',\n",
              "                                                     [key], {});\n",
              "          if (!dataTable) return;\n",
              "\n",
              "          const docLinkHtml = 'Like what you see? Visit the ' +\n",
              "            '<a target=\"_blank\" href=https://colab.research.google.com/notebooks/data_table.ipynb>data table notebook</a>'\n",
              "            + ' to learn more about interactive tables.';\n",
              "          element.innerHTML = '';\n",
              "          dataTable['output_type'] = 'display_data';\n",
              "          await google.colab.output.renderOutput(dataTable, element);\n",
              "          const docLink = document.createElement('div');\n",
              "          docLink.innerHTML = docLinkHtml;\n",
              "          element.appendChild(docLink);\n",
              "        }\n",
              "      </script>\n",
              "    </div>\n",
              "  </div>\n",
              "  "
            ]
          },
          "metadata": {},
          "execution_count": 9
        }
      ]
    },
    {
      "cell_type": "markdown",
      "metadata": {
        "id": "Y1fv-ilrZB7R"
      },
      "source": [
        "### fill out bmi NULL values "
      ]
    },
    {
      "cell_type": "code",
      "execution_count": null,
      "metadata": {
        "id": "0EUoEvbLY-6K"
      },
      "outputs": [],
      "source": [
        "df = df.dropna(axis=0, subset=['bmi'])\n",
        "df.reset_index(drop=True, inplace=True)\n",
        "from sklearn.preprocessing import MinMaxScaler\n",
        "scaler=MinMaxScaler()\n",
        "cols_to_scale=[\"age\",\"avg_glucose_level\",\"bmi\"]\n",
        "df[cols_to_scale] = scaler.fit_transform(df[cols_to_scale])"
      ]
    },
    {
      "cell_type": "code",
      "execution_count": null,
      "metadata": {
        "colab": {
          "base_uri": "https://localhost:8080/"
        },
        "id": "asyVPv0SZTlh",
        "outputId": "f65ddf06-e55e-4be8-d4f1-e2a94f3e985b"
      },
      "outputs": [
        {
          "output_type": "execute_result",
          "data": {
            "text/plain": [
              "age                  0\n",
              "hypertension         0\n",
              "heart_disease        0\n",
              "avg_glucose_level    0\n",
              "bmi                  0\n",
              "stroke               0\n",
              "gender               0\n",
              "ever_married         0\n",
              "work_type            0\n",
              "Residence_type       0\n",
              "smoking_status       0\n",
              "dtype: int64"
            ]
          },
          "metadata": {},
          "execution_count": 11
        }
      ],
      "source": [
        "df.isnull().sum()"
      ]
    },
    {
      "cell_type": "code",
      "execution_count": null,
      "metadata": {
        "colab": {
          "base_uri": "https://localhost:8080/",
          "height": 423
        },
        "id": "d7ldYixsuW1_",
        "outputId": "04e9d0bd-985c-4dd5-ae87-ac6c45112171"
      },
      "outputs": [
        {
          "output_type": "execute_result",
          "data": {
            "text/plain": [
              "           age  hypertension  heart_disease  avg_glucose_level       bmi  \\\n",
              "1433  0.145508             0              0           0.703213  0.172967   \n",
              "3932  0.475098             0              0           0.249608  0.223368   \n",
              "2326  0.157715             0              0           0.284000  0.155785   \n",
              "1334  0.938965             0              0           0.211107  0.219931   \n",
              "3127  0.108887             0              0           0.175976  0.247423   \n",
              "...        ...           ...            ...                ...       ...   \n",
              "769   0.255371             0              0           0.341797  0.276060   \n",
              "2964  0.523926             0              0           0.228188  0.155785   \n",
              "245   0.389648             0              0           0.034531  0.169530   \n",
              "4778  0.792480             0              0           0.119749  0.226804   \n",
              "3120  0.609375             0              0           0.443773  0.242841   \n",
              "\n",
              "      stroke  gender  ever_married  work_type  Residence_type  smoking_status  \n",
              "1433       0       0             0          4               0               3  \n",
              "3932       0       1             1          2               0               0  \n",
              "2326       0       1             0          4               0               0  \n",
              "1334       0       0             1          2               0               3  \n",
              "3127       0       1             0          4               1               0  \n",
              "...      ...     ...           ...        ...             ...             ...  \n",
              "769        0       0             0          2               1               0  \n",
              "2964       0       0             1          0               1               3  \n",
              "245        0       0             1          2               0               1  \n",
              "4778       0       1             1          2               1               3  \n",
              "3120       0       0             1          0               1               2  \n",
              "\n",
              "[4909 rows x 11 columns]"
            ],
            "text/html": [
              "\n",
              "  <div id=\"df-badd72d8-62f3-4575-a176-0fc5ea079edf\">\n",
              "    <div class=\"colab-df-container\">\n",
              "      <div>\n",
              "<style scoped>\n",
              "    .dataframe tbody tr th:only-of-type {\n",
              "        vertical-align: middle;\n",
              "    }\n",
              "\n",
              "    .dataframe tbody tr th {\n",
              "        vertical-align: top;\n",
              "    }\n",
              "\n",
              "    .dataframe thead th {\n",
              "        text-align: right;\n",
              "    }\n",
              "</style>\n",
              "<table border=\"1\" class=\"dataframe\">\n",
              "  <thead>\n",
              "    <tr style=\"text-align: right;\">\n",
              "      <th></th>\n",
              "      <th>age</th>\n",
              "      <th>hypertension</th>\n",
              "      <th>heart_disease</th>\n",
              "      <th>avg_glucose_level</th>\n",
              "      <th>bmi</th>\n",
              "      <th>stroke</th>\n",
              "      <th>gender</th>\n",
              "      <th>ever_married</th>\n",
              "      <th>work_type</th>\n",
              "      <th>Residence_type</th>\n",
              "      <th>smoking_status</th>\n",
              "    </tr>\n",
              "  </thead>\n",
              "  <tbody>\n",
              "    <tr>\n",
              "      <th>1433</th>\n",
              "      <td>0.145508</td>\n",
              "      <td>0</td>\n",
              "      <td>0</td>\n",
              "      <td>0.703213</td>\n",
              "      <td>0.172967</td>\n",
              "      <td>0</td>\n",
              "      <td>0</td>\n",
              "      <td>0</td>\n",
              "      <td>4</td>\n",
              "      <td>0</td>\n",
              "      <td>3</td>\n",
              "    </tr>\n",
              "    <tr>\n",
              "      <th>3932</th>\n",
              "      <td>0.475098</td>\n",
              "      <td>0</td>\n",
              "      <td>0</td>\n",
              "      <td>0.249608</td>\n",
              "      <td>0.223368</td>\n",
              "      <td>0</td>\n",
              "      <td>1</td>\n",
              "      <td>1</td>\n",
              "      <td>2</td>\n",
              "      <td>0</td>\n",
              "      <td>0</td>\n",
              "    </tr>\n",
              "    <tr>\n",
              "      <th>2326</th>\n",
              "      <td>0.157715</td>\n",
              "      <td>0</td>\n",
              "      <td>0</td>\n",
              "      <td>0.284000</td>\n",
              "      <td>0.155785</td>\n",
              "      <td>0</td>\n",
              "      <td>1</td>\n",
              "      <td>0</td>\n",
              "      <td>4</td>\n",
              "      <td>0</td>\n",
              "      <td>0</td>\n",
              "    </tr>\n",
              "    <tr>\n",
              "      <th>1334</th>\n",
              "      <td>0.938965</td>\n",
              "      <td>0</td>\n",
              "      <td>0</td>\n",
              "      <td>0.211107</td>\n",
              "      <td>0.219931</td>\n",
              "      <td>0</td>\n",
              "      <td>0</td>\n",
              "      <td>1</td>\n",
              "      <td>2</td>\n",
              "      <td>0</td>\n",
              "      <td>3</td>\n",
              "    </tr>\n",
              "    <tr>\n",
              "      <th>3127</th>\n",
              "      <td>0.108887</td>\n",
              "      <td>0</td>\n",
              "      <td>0</td>\n",
              "      <td>0.175976</td>\n",
              "      <td>0.247423</td>\n",
              "      <td>0</td>\n",
              "      <td>1</td>\n",
              "      <td>0</td>\n",
              "      <td>4</td>\n",
              "      <td>1</td>\n",
              "      <td>0</td>\n",
              "    </tr>\n",
              "    <tr>\n",
              "      <th>...</th>\n",
              "      <td>...</td>\n",
              "      <td>...</td>\n",
              "      <td>...</td>\n",
              "      <td>...</td>\n",
              "      <td>...</td>\n",
              "      <td>...</td>\n",
              "      <td>...</td>\n",
              "      <td>...</td>\n",
              "      <td>...</td>\n",
              "      <td>...</td>\n",
              "      <td>...</td>\n",
              "    </tr>\n",
              "    <tr>\n",
              "      <th>769</th>\n",
              "      <td>0.255371</td>\n",
              "      <td>0</td>\n",
              "      <td>0</td>\n",
              "      <td>0.341797</td>\n",
              "      <td>0.276060</td>\n",
              "      <td>0</td>\n",
              "      <td>0</td>\n",
              "      <td>0</td>\n",
              "      <td>2</td>\n",
              "      <td>1</td>\n",
              "      <td>0</td>\n",
              "    </tr>\n",
              "    <tr>\n",
              "      <th>2964</th>\n",
              "      <td>0.523926</td>\n",
              "      <td>0</td>\n",
              "      <td>0</td>\n",
              "      <td>0.228188</td>\n",
              "      <td>0.155785</td>\n",
              "      <td>0</td>\n",
              "      <td>0</td>\n",
              "      <td>1</td>\n",
              "      <td>0</td>\n",
              "      <td>1</td>\n",
              "      <td>3</td>\n",
              "    </tr>\n",
              "    <tr>\n",
              "      <th>245</th>\n",
              "      <td>0.389648</td>\n",
              "      <td>0</td>\n",
              "      <td>0</td>\n",
              "      <td>0.034531</td>\n",
              "      <td>0.169530</td>\n",
              "      <td>0</td>\n",
              "      <td>0</td>\n",
              "      <td>1</td>\n",
              "      <td>2</td>\n",
              "      <td>0</td>\n",
              "      <td>1</td>\n",
              "    </tr>\n",
              "    <tr>\n",
              "      <th>4778</th>\n",
              "      <td>0.792480</td>\n",
              "      <td>0</td>\n",
              "      <td>0</td>\n",
              "      <td>0.119749</td>\n",
              "      <td>0.226804</td>\n",
              "      <td>0</td>\n",
              "      <td>1</td>\n",
              "      <td>1</td>\n",
              "      <td>2</td>\n",
              "      <td>1</td>\n",
              "      <td>3</td>\n",
              "    </tr>\n",
              "    <tr>\n",
              "      <th>3120</th>\n",
              "      <td>0.609375</td>\n",
              "      <td>0</td>\n",
              "      <td>0</td>\n",
              "      <td>0.443773</td>\n",
              "      <td>0.242841</td>\n",
              "      <td>0</td>\n",
              "      <td>0</td>\n",
              "      <td>1</td>\n",
              "      <td>0</td>\n",
              "      <td>1</td>\n",
              "      <td>2</td>\n",
              "    </tr>\n",
              "  </tbody>\n",
              "</table>\n",
              "<p>4909 rows × 11 columns</p>\n",
              "</div>\n",
              "      <button class=\"colab-df-convert\" onclick=\"convertToInteractive('df-badd72d8-62f3-4575-a176-0fc5ea079edf')\"\n",
              "              title=\"Convert this dataframe to an interactive table.\"\n",
              "              style=\"display:none;\">\n",
              "        \n",
              "  <svg xmlns=\"http://www.w3.org/2000/svg\" height=\"24px\"viewBox=\"0 0 24 24\"\n",
              "       width=\"24px\">\n",
              "    <path d=\"M0 0h24v24H0V0z\" fill=\"none\"/>\n",
              "    <path d=\"M18.56 5.44l.94 2.06.94-2.06 2.06-.94-2.06-.94-.94-2.06-.94 2.06-2.06.94zm-11 1L8.5 8.5l.94-2.06 2.06-.94-2.06-.94L8.5 2.5l-.94 2.06-2.06.94zm10 10l.94 2.06.94-2.06 2.06-.94-2.06-.94-.94-2.06-.94 2.06-2.06.94z\"/><path d=\"M17.41 7.96l-1.37-1.37c-.4-.4-.92-.59-1.43-.59-.52 0-1.04.2-1.43.59L10.3 9.45l-7.72 7.72c-.78.78-.78 2.05 0 2.83L4 21.41c.39.39.9.59 1.41.59.51 0 1.02-.2 1.41-.59l7.78-7.78 2.81-2.81c.8-.78.8-2.07 0-2.86zM5.41 20L4 18.59l7.72-7.72 1.47 1.35L5.41 20z\"/>\n",
              "  </svg>\n",
              "      </button>\n",
              "      \n",
              "  <style>\n",
              "    .colab-df-container {\n",
              "      display:flex;\n",
              "      flex-wrap:wrap;\n",
              "      gap: 12px;\n",
              "    }\n",
              "\n",
              "    .colab-df-convert {\n",
              "      background-color: #E8F0FE;\n",
              "      border: none;\n",
              "      border-radius: 50%;\n",
              "      cursor: pointer;\n",
              "      display: none;\n",
              "      fill: #1967D2;\n",
              "      height: 32px;\n",
              "      padding: 0 0 0 0;\n",
              "      width: 32px;\n",
              "    }\n",
              "\n",
              "    .colab-df-convert:hover {\n",
              "      background-color: #E2EBFA;\n",
              "      box-shadow: 0px 1px 2px rgba(60, 64, 67, 0.3), 0px 1px 3px 1px rgba(60, 64, 67, 0.15);\n",
              "      fill: #174EA6;\n",
              "    }\n",
              "\n",
              "    [theme=dark] .colab-df-convert {\n",
              "      background-color: #3B4455;\n",
              "      fill: #D2E3FC;\n",
              "    }\n",
              "\n",
              "    [theme=dark] .colab-df-convert:hover {\n",
              "      background-color: #434B5C;\n",
              "      box-shadow: 0px 1px 3px 1px rgba(0, 0, 0, 0.15);\n",
              "      filter: drop-shadow(0px 1px 2px rgba(0, 0, 0, 0.3));\n",
              "      fill: #FFFFFF;\n",
              "    }\n",
              "  </style>\n",
              "\n",
              "      <script>\n",
              "        const buttonEl =\n",
              "          document.querySelector('#df-badd72d8-62f3-4575-a176-0fc5ea079edf button.colab-df-convert');\n",
              "        buttonEl.style.display =\n",
              "          google.colab.kernel.accessAllowed ? 'block' : 'none';\n",
              "\n",
              "        async function convertToInteractive(key) {\n",
              "          const element = document.querySelector('#df-badd72d8-62f3-4575-a176-0fc5ea079edf');\n",
              "          const dataTable =\n",
              "            await google.colab.kernel.invokeFunction('convertToInteractive',\n",
              "                                                     [key], {});\n",
              "          if (!dataTable) return;\n",
              "\n",
              "          const docLinkHtml = 'Like what you see? Visit the ' +\n",
              "            '<a target=\"_blank\" href=https://colab.research.google.com/notebooks/data_table.ipynb>data table notebook</a>'\n",
              "            + ' to learn more about interactive tables.';\n",
              "          element.innerHTML = '';\n",
              "          dataTable['output_type'] = 'display_data';\n",
              "          await google.colab.output.renderOutput(dataTable, element);\n",
              "          const docLink = document.createElement('div');\n",
              "          docLink.innerHTML = docLinkHtml;\n",
              "          element.appendChild(docLink);\n",
              "        }\n",
              "      </script>\n",
              "    </div>\n",
              "  </div>\n",
              "  "
            ]
          },
          "metadata": {},
          "execution_count": 12
        }
      ],
      "source": [
        "# shuffle the DataFrame rows\n",
        "df = df.sample(frac = 1)\n",
        "df"
      ]
    },
    {
      "cell_type": "markdown",
      "metadata": {
        "id": "KSrfmMGeclF4"
      },
      "source": [
        "# split the dataset"
      ]
    },
    {
      "cell_type": "code",
      "execution_count": null,
      "metadata": {
        "colab": {
          "base_uri": "https://localhost:8080/"
        },
        "id": "4FZd8eFycnfw",
        "outputId": "05f04aa4-c05b-4d40-ec7c-f24ce61ca67d"
      },
      "outputs": [
        {
          "output_type": "execute_result",
          "data": {
            "text/plain": [
              "((4909, 10), (4909,))"
            ]
          },
          "metadata": {},
          "execution_count": 13
        }
      ],
      "source": [
        "y=df['stroke']\n",
        "x=df.drop('stroke',axis=1)\n",
        "x.shape,y.shape"
      ]
    },
    {
      "cell_type": "markdown",
      "metadata": {
        "id": "wFZSNqdD8-KJ"
      },
      "source": [
        "# Make Some Analysis Operatoin to detrmined Fuzzification \n",
        "###determines the degree of membership to the fuzzy set based on fuzzy membership function"
      ]
    },
    {
      "cell_type": "markdown",
      "metadata": {
        "id": "e_GHmvWX9SPI"
      },
      "source": [
        "##1- Gender Type"
      ]
    },
    {
      "cell_type": "code",
      "execution_count": null,
      "metadata": {
        "colab": {
          "base_uri": "https://localhost:8080/",
          "height": 297
        },
        "id": "zRx1jwGS9m0v",
        "outputId": "3cbc15e9-8a7b-4408-c76b-2b0a57a99c23"
      },
      "outputs": [
        {
          "output_type": "execute_result",
          "data": {
            "text/plain": [
              "<matplotlib.axes._subplots.AxesSubplot at 0x7f4b84ead550>"
            ]
          },
          "metadata": {},
          "execution_count": 14
        },
        {
          "output_type": "display_data",
          "data": {
            "text/plain": [
              "<Figure size 432x288 with 1 Axes>"
            ],
            "image/png": "[encoded data removed]"
          },
          "metadata": {
            "needs_background": "light"
          }
        }
      ],
      "source": [
        "sns.countplot(data=data,x='gender')"
      ]
    },
    {
      "cell_type": "code",
      "execution_count": null,
      "metadata": {
        "colab": {
          "base_uri": "https://localhost:8080/",
          "height": 297
        },
        "id": "Amhf_cwY-CAO",
        "outputId": "d2e7eff7-0770-44db-a928-fd2a27137dbd"
      },
      "outputs": [
        {
          "output_type": "execute_result",
          "data": {
            "text/plain": [
              "<matplotlib.axes._subplots.AxesSubplot at 0x7f4b84b55fa0>"
            ]
          },
          "metadata": {},
          "execution_count": 15
        },
        {
          "output_type": "display_data",
          "data": {
            "text/plain": [
              "<Figure size 432x288 with 1 Axes>"
            ],
            "image/png": "[encoded data removed]"
          },
          "metadata": {
            "needs_background": "light"
          }
        }
      ],
      "source": [
        "sns.countplot(data=data,x='gender',hue='stroke')"
      ]
    },
    {
      "cell_type": "markdown",
      "metadata": {
        "id": "Ka8w5l0x-ELY"
      },
      "source": [
        "we can note that there is not much difference between stroke rate concerning gender\n"
      ]
    },
    {
      "cell_type": "markdown",
      "metadata": {
        "id": "qKk8JhXR-Q9S"
      },
      "source": [
        "##2- Age"
      ]
    },
    {
      "cell_type": "code",
      "execution_count": null,
      "metadata": {
        "colab": {
          "base_uri": "https://localhost:8080/",
          "height": 387
        },
        "id": "2MTmj1vh-PMd",
        "outputId": "014758d4-2ceb-4269-81b6-cbaab71c05a9"
      },
      "outputs": [
        {
          "output_type": "execute_result",
          "data": {
            "text/plain": [
              "<seaborn.axisgrid.FacetGrid at 0x7f4b8467f700>"
            ]
          },
          "metadata": {},
          "execution_count": 16
        },
        {
          "output_type": "display_data",
          "data": {
            "text/plain": [
              "<Figure size 360x360 with 1 Axes>"
            ],
            "image/png": "[encoded data removed]"
          },
          "metadata": {
            "needs_background": "light"
          }
        }
      ],
      "source": [
        "sns.displot(data['age'])"
      ]
    },
    {
      "cell_type": "code",
      "execution_count": null,
      "metadata": {
        "colab": {
          "base_uri": "https://localhost:8080/",
          "height": 297
        },
        "id": "bT7uNZ6d-ce7",
        "outputId": "da8a3c3d-a102-4eb6-ed86-20d5bbbb6652"
      },
      "outputs": [
        {
          "output_type": "execute_result",
          "data": {
            "text/plain": [
              "<matplotlib.axes._subplots.AxesSubplot at 0x7f4b81e35c10>"
            ]
          },
          "metadata": {},
          "execution_count": 17
        },
        {
          "output_type": "display_data",
          "data": {
            "text/plain": [
              "<Figure size 432x288 with 1 Axes>"
            ],
            "image/png": "[encoded data removed]"
          },
          "metadata": {
            "needs_background": "light"
          }
        }
      ],
      "source": [
        "sns.boxplot(data=data,x='stroke',y='age')"
      ]
    },
    {
      "cell_type": "markdown",
      "metadata": {
        "id": "iIRe-KKU-q__"
      },
      "source": [
        "People aged more than 60 years tend to have a stroke"
      ]
    },
    {
      "cell_type": "markdown",
      "metadata": {
        "id": "B8Mlsj2O-_5Q"
      },
      "source": [
        "##3- Hypertension"
      ]
    },
    {
      "cell_type": "code",
      "execution_count": null,
      "metadata": {
        "colab": {
          "base_uri": "https://localhost:8080/",
          "height": 297
        },
        "id": "3bCYYSVF-_l2",
        "outputId": "cade1b82-1605-46a2-850f-340eb251aa3b"
      },
      "outputs": [
        {
          "output_type": "execute_result",
          "data": {
            "text/plain": [
              "<matplotlib.axes._subplots.AxesSubplot at 0x7f4b81d9b970>"
            ]
          },
          "metadata": {},
          "execution_count": 18
        },
        {
          "output_type": "display_data",
          "data": {
            "text/plain": [
              "<Figure size 432x288 with 1 Axes>"
            ],
            "image/png": "[encoded data removed]"
          },
          "metadata": {
            "needs_background": "light"
          }
        }
      ],
      "source": [
        "sns.countplot(data=data,x='hypertension')"
      ]
    },
    {
      "cell_type": "code",
      "execution_count": null,
      "metadata": {
        "colab": {
          "base_uri": "https://localhost:8080/",
          "height": 297
        },
        "id": "Q-zNw3Dl_byv",
        "outputId": "708b97c9-caae-4060-b1d7-c93070c9de94"
      },
      "outputs": [
        {
          "output_type": "execute_result",
          "data": {
            "text/plain": [
              "<matplotlib.axes._subplots.AxesSubplot at 0x7f4b81d5eaf0>"
            ]
          },
          "metadata": {},
          "execution_count": 19
        },
        {
          "output_type": "display_data",
          "data": {
            "text/plain": [
              "<Figure size 432x288 with 1 Axes>"
            ],
            "image/png": "[encoded data removed]"
          },
          "metadata": {
            "needs_background": "light"
          }
        }
      ],
      "source": [
        "sns.countplot(data=data,x='hypertension',hue='stroke')"
      ]
    },
    {
      "cell_type": "markdown",
      "metadata": {
        "id": "AIgXttjE_qUG"
      },
      "source": [
        "hypertension is rare in young people and common in aged people. Hypertension can cause a stroke. Based on our data picture is not that clear for hypertension. It has quite little data on patients having hypertension."
      ]
    },
    {
      "cell_type": "markdown",
      "metadata": {
        "id": "aRZHomJrABHf"
      },
      "source": [
        "##4- Heart Disease"
      ]
    },
    {
      "cell_type": "code",
      "execution_count": null,
      "metadata": {
        "colab": {
          "base_uri": "https://localhost:8080/",
          "height": 299
        },
        "id": "vMIcoAN-_-fn",
        "outputId": "02306b92-7dab-4618-98a6-1d1e43b49baa"
      },
      "outputs": [
        {
          "output_type": "execute_result",
          "data": {
            "text/plain": [
              "<matplotlib.axes._subplots.AxesSubplot at 0x7f4b81d63e80>"
            ]
          },
          "metadata": {},
          "execution_count": 20
        },
        {
          "output_type": "display_data",
          "data": {
            "text/plain": [
              "<Figure size 432x288 with 1 Axes>"
            ],
            "image/png": "[encoded data removed]"
          },
          "metadata": {
            "needs_background": "light"
          }
        }
      ],
      "source": [
        "sns.countplot(data=data,x='heart_disease')"
      ]
    },
    {
      "cell_type": "code",
      "execution_count": null,
      "metadata": {
        "colab": {
          "base_uri": "https://localhost:8080/",
          "height": 298
        },
        "id": "9_kT0AP3AZDZ",
        "outputId": "baee7443-e7a3-4d86-83b3-62ab6d59a844"
      },
      "outputs": [
        {
          "output_type": "execute_result",
          "data": {
            "text/plain": [
              "<matplotlib.axes._subplots.AxesSubplot at 0x7f4b81c79370>"
            ]
          },
          "metadata": {},
          "execution_count": 21
        },
        {
          "output_type": "display_data",
          "data": {
            "text/plain": [
              "<Figure size 432x288 with 1 Axes>"
            ],
            "image/png": "[encoded data removed]"
          },
          "metadata": {
            "needs_background": "light"
          }
        }
      ],
      "source": [
        "sns.countplot(data=data,x='heart_disease', hue = \"stroke\")"
      ]
    },
    {
      "cell_type": "markdown",
      "metadata": {
        "id": "I6-clXG2AoQ3"
      },
      "source": [
        "Because of the imbalanced dataset, it’s a little bit difficult to get an idea. But as per this plot, we can say that heart disease is not affecting Stroke."
      ]
    },
    {
      "cell_type": "markdown",
      "metadata": {
        "id": "AoIX00ZcAx-w"
      },
      "source": [
        "##5-Average Glucose Level"
      ]
    },
    {
      "cell_type": "code",
      "execution_count": null,
      "metadata": {
        "colab": {
          "base_uri": "https://localhost:8080/",
          "height": 387
        },
        "id": "DpgNIGDyA4Sn",
        "outputId": "da30f14a-cf15-4679-fbbe-30091c6b0bf5"
      },
      "outputs": [
        {
          "output_type": "execute_result",
          "data": {
            "text/plain": [
              "<seaborn.axisgrid.FacetGrid at 0x7f4b81d49970>"
            ]
          },
          "metadata": {},
          "execution_count": 22
        },
        {
          "output_type": "display_data",
          "data": {
            "text/plain": [
              "<Figure size 360x360 with 1 Axes>"
            ],
            "image/png": "[encoded data removed]"
          },
          "metadata": {
            "needs_background": "light"
          }
        }
      ],
      "source": [
        "sns.displot(data['avg_glucose_level'])\n"
      ]
    },
    {
      "cell_type": "code",
      "execution_count": null,
      "metadata": {
        "colab": {
          "base_uri": "https://localhost:8080/",
          "height": 297
        },
        "id": "dUtqwW6SBCmn",
        "outputId": "2bf8a565-812a-484a-ec0c-a9e0040ff927"
      },
      "outputs": [
        {
          "output_type": "execute_result",
          "data": {
            "text/plain": [
              "<matplotlib.axes._subplots.AxesSubplot at 0x7f4b81c25cd0>"
            ]
          },
          "metadata": {},
          "execution_count": 23
        },
        {
          "output_type": "display_data",
          "data": {
            "text/plain": [
              "<Figure size 432x288 with 1 Axes>"
            ],
            "image/png": "[encoded data removed]"
          },
          "metadata": {
            "needs_background": "light"
          }
        }
      ],
      "source": [
        "sns.boxplot(data=data, x = \"stroke\", y='avg_glucose_level')"
      ]
    },
    {
      "cell_type": "markdown",
      "metadata": {
        "id": "I_csjPSRBSqu"
      },
      "source": [
        "From this above graph, we can see that people having stroke have an average glucose level of more than 100. There are some obvious outliers in patients who have no stroke but there are some chances of this being genuine records."
      ]
    },
    {
      "cell_type": "markdown",
      "metadata": {
        "id": "c5q8rbBCBtAX"
      },
      "source": [
        "##6- BMI"
      ]
    },
    {
      "cell_type": "code",
      "execution_count": null,
      "metadata": {
        "colab": {
          "base_uri": "https://localhost:8080/",
          "height": 387
        },
        "id": "H2Ruc-r4Bv9X",
        "outputId": "0a56afa9-43ab-411b-9c2f-7b45b437cd0d"
      },
      "outputs": [
        {
          "output_type": "execute_result",
          "data": {
            "text/plain": [
              "<seaborn.axisgrid.FacetGrid at 0x7f4b81d8ed90>"
            ]
          },
          "metadata": {},
          "execution_count": 24
        },
        {
          "output_type": "display_data",
          "data": {
            "text/plain": [
              "<Figure size 360x360 with 1 Axes>"
            ],
            "image/png": "[encoded data removed]"
          },
          "metadata": {
            "needs_background": "light"
          }
        }
      ],
      "source": [
        "sns.displot(data['bmi'])"
      ]
    },
    {
      "cell_type": "code",
      "execution_count": null,
      "metadata": {
        "colab": {
          "base_uri": "https://localhost:8080/",
          "height": 297
        },
        "id": "--95y3djB9Zf",
        "outputId": "1fb3687e-cd21-43f2-b1c1-14ad620c2774"
      },
      "outputs": [
        {
          "output_type": "execute_result",
          "data": {
            "text/plain": [
              "<matplotlib.axes._subplots.AxesSubplot at 0x7f4b81b447c0>"
            ]
          },
          "metadata": {},
          "execution_count": 25
        },
        {
          "output_type": "display_data",
          "data": {
            "text/plain": [
              "<Figure size 432x288 with 1 Axes>"
            ],
            "image/png": "[encoded data removed]"
          },
          "metadata": {
            "needs_background": "light"
          }
        }
      ],
      "source": [
        "sns.boxplot(data=data,x='stroke',y='bmi')"
      ]
    },
    {
      "cell_type": "markdown",
      "metadata": {
        "id": "TYnIYIHnChFX"
      },
      "source": [
        "There is as such no prominent observation of how does BMI affects the chances of having a stroke"
      ]
    },
    {
      "cell_type": "markdown",
      "metadata": {
        "id": "2q0V1VpjBBWM"
      },
      "source": [
        "##7- Smoking status "
      ]
    },
    {
      "cell_type": "code",
      "execution_count": null,
      "metadata": {
        "colab": {
          "base_uri": "https://localhost:8080/",
          "height": 298
        },
        "id": "e8JCxC0MCviW",
        "outputId": "d3603f92-59b1-48df-ed51-a7d251f6a6c7"
      },
      "outputs": [
        {
          "output_type": "execute_result",
          "data": {
            "text/plain": [
              "<matplotlib.axes._subplots.AxesSubplot at 0x7f4b819387f0>"
            ]
          },
          "metadata": {},
          "execution_count": 26
        },
        {
          "output_type": "display_data",
          "data": {
            "text/plain": [
              "<Figure size 432x288 with 1 Axes>"
            ],
            "image/png": "[encoded data removed]"
          },
          "metadata": {
            "needs_background": "light"
          }
        }
      ],
      "source": [
        "sns.countplot(data=data,x='smoking_status')"
      ]
    },
    {
      "cell_type": "code",
      "execution_count": null,
      "metadata": {
        "colab": {
          "base_uri": "https://localhost:8080/",
          "height": 298
        },
        "id": "1NKG1hYgC3zt",
        "outputId": "90319ce9-036a-41a5-81c4-0651cb1280ce"
      },
      "outputs": [
        {
          "output_type": "execute_result",
          "data": {
            "text/plain": [
              "<matplotlib.axes._subplots.AxesSubplot at 0x7f4b81e29430>"
            ]
          },
          "metadata": {},
          "execution_count": 27
        },
        {
          "output_type": "display_data",
          "data": {
            "text/plain": [
              "<Figure size 432x288 with 1 Axes>"
            ],
            "image/png": "[encoded data removed]"
          },
          "metadata": {
            "needs_background": "light"
          }
        }
      ],
      "source": [
        "sns.countplot(data=data,x='smoking_status',hue='stroke')"
      ]
    },
    {
      "cell_type": "markdown",
      "metadata": {
        "id": "pI-4Z4RPDBKG"
      },
      "source": [
        "As per these plots, we can see there is not much difference in the chances of stroke irrespective of smoking status"
      ]
    },
    {
      "cell_type": "markdown",
      "metadata": {
        "id": "mWcZL-yLDz11"
      },
      "source": [
        "##8- Ever Married"
      ]
    },
    {
      "cell_type": "code",
      "execution_count": null,
      "metadata": {
        "colab": {
          "base_uri": "https://localhost:8080/",
          "height": 301
        },
        "id": "9g9MVYK7DzkS",
        "outputId": "568a0b29-4028-4b10-82d4-d4dfcfd7fa4e"
      },
      "outputs": [
        {
          "output_type": "execute_result",
          "data": {
            "text/plain": [
              "<matplotlib.axes._subplots.AxesSubplot at 0x7f4b81c57fd0>"
            ]
          },
          "metadata": {},
          "execution_count": 28
        },
        {
          "output_type": "display_data",
          "data": {
            "text/plain": [
              "<Figure size 432x288 with 1 Axes>"
            ],
            "image/png": "[encoded data removed]"
          },
          "metadata": {
            "needs_background": "light"
          }
        }
      ],
      "source": [
        "sns.countplot(data=data,x='ever_married')"
      ]
    },
    {
      "cell_type": "code",
      "execution_count": null,
      "metadata": {
        "colab": {
          "base_uri": "https://localhost:8080/",
          "height": 298
        },
        "id": "YKbH_iq0Fkfy",
        "outputId": "32927371-4d71-4e8e-a485-8401377fdc82"
      },
      "outputs": [
        {
          "output_type": "execute_result",
          "data": {
            "text/plain": [
              "<matplotlib.axes._subplots.AxesSubplot at 0x7f4b81c7f670>"
            ]
          },
          "metadata": {},
          "execution_count": 29
        },
        {
          "output_type": "display_data",
          "data": {
            "text/plain": [
              "<Figure size 432x288 with 1 Axes>"
            ],
            "image/png": "[encoded data removed]"
          },
          "metadata": {
            "needs_background": "light"
          }
        }
      ],
      "source": [
        "sns.countplot(data=data,x='ever_married',hue='stroke')"
      ]
    },
    {
      "cell_type": "markdown",
      "metadata": {
        "id": "zzj5mln2FzK2"
      },
      "source": [
        "##9-Work Type"
      ]
    },
    {
      "cell_type": "code",
      "execution_count": null,
      "metadata": {
        "colab": {
          "base_uri": "https://localhost:8080/",
          "height": 299
        },
        "id": "NVLzTd8ZFy7s",
        "outputId": "e1331c5b-bf8f-4313-ad0a-18b9076c4bd1"
      },
      "outputs": [
        {
          "output_type": "execute_result",
          "data": {
            "text/plain": [
              "<matplotlib.axes._subplots.AxesSubplot at 0x7f4b81817490>"
            ]
          },
          "metadata": {},
          "execution_count": 30
        },
        {
          "output_type": "display_data",
          "data": {
            "text/plain": [
              "<Figure size 432x288 with 1 Axes>"
            ],
            "image/png": "[encoded data removed]"
          },
          "metadata": {
            "needs_background": "light"
          }
        }
      ],
      "source": [
        "sns.countplot(data=data,x='work_type')"
      ]
    },
    {
      "cell_type": "code",
      "execution_count": null,
      "metadata": {
        "colab": {
          "base_uri": "https://localhost:8080/",
          "height": 299
        },
        "id": "LCQi0qSyF-yW",
        "outputId": "6d09a5fb-9459-4ffe-813b-b885e9b94d60"
      },
      "outputs": [
        {
          "output_type": "execute_result",
          "data": {
            "text/plain": [
              "<matplotlib.axes._subplots.AxesSubplot at 0x7f4b817f2310>"
            ]
          },
          "metadata": {},
          "execution_count": 31
        },
        {
          "output_type": "display_data",
          "data": {
            "text/plain": [
              "<Figure size 432x288 with 1 Axes>"
            ],
            "image/png": "[encoded data removed]"
          },
          "metadata": {
            "needs_background": "light"
          }
        }
      ],
      "source": [
        "sns.countplot(data=data,x='work_type',hue='stroke')"
      ]
    },
    {
      "cell_type": "markdown",
      "metadata": {
        "id": "p8f4ggPwRtSI"
      },
      "source": [
        "##10- Residence Type"
      ]
    },
    {
      "cell_type": "code",
      "execution_count": null,
      "metadata": {
        "colab": {
          "base_uri": "https://localhost:8080/",
          "height": 298
        },
        "id": "kqGCCdVKRyiu",
        "outputId": "787ffec9-2c0d-41be-a539-bc45f53f513d"
      },
      "outputs": [
        {
          "output_type": "execute_result",
          "data": {
            "text/plain": [
              "<matplotlib.axes._subplots.AxesSubplot at 0x7f4b817b3fa0>"
            ]
          },
          "metadata": {},
          "execution_count": 32
        },
        {
          "output_type": "display_data",
          "data": {
            "text/plain": [
              "<Figure size 432x288 with 1 Axes>"
            ],
            "image/png": "[encoded data removed]"
          },
          "metadata": {
            "needs_background": "light"
          }
        }
      ],
      "source": [
        "sns.countplot(data=data,x='Residence_type')"
      ]
    },
    {
      "cell_type": "code",
      "execution_count": null,
      "metadata": {
        "colab": {
          "base_uri": "https://localhost:8080/",
          "height": 298
        },
        "id": "cVgOUuuzR2ik",
        "outputId": "a1afe280-86ef-4ff3-de27-cf4ed7e8ea25"
      },
      "outputs": [
        {
          "output_type": "execute_result",
          "data": {
            "text/plain": [
              "<matplotlib.axes._subplots.AxesSubplot at 0x7f4b81731d30>"
            ]
          },
          "metadata": {},
          "execution_count": 33
        },
        {
          "output_type": "display_data",
          "data": {
            "text/plain": [
              "<Figure size 432x288 with 1 Axes>"
            ],
            "image/png": "[encoded data removed]"
          },
          "metadata": {
            "needs_background": "light"
          }
        }
      ],
      "source": [
        "sns.countplot(data=data,x='Residence_type',hue='stroke')"
      ]
    },
    {
      "cell_type": "markdown",
      "metadata": {
        "id": "_4GxQE8_R9wV"
      },
      "source": [
        "## Stroke"
      ]
    },
    {
      "cell_type": "code",
      "execution_count": null,
      "metadata": {
        "colab": {
          "base_uri": "https://localhost:8080/",
          "height": 313
        },
        "id": "dT4rS2zicxGw",
        "outputId": "9d372b95-8f06-4751-e257-d3dde995a5ba"
      },
      "outputs": [
        {
          "output_type": "execute_result",
          "data": {
            "text/plain": [
              "Text(0.5, 1.0, 'COUNT PLOT')"
            ]
          },
          "metadata": {},
          "execution_count": 34
        },
        {
          "output_type": "display_data",
          "data": {
            "text/plain": [
              "<Figure size 432x288 with 1 Axes>"
            ],
            "image/png": "[encoded data removed]"
          },
          "metadata": {
            "needs_background": "light"
          }
        }
      ],
      "source": [
        "sns.countplot(y)\n",
        "plt.xticks([0,1],['NO','YES'])\n",
        "plt.title('COUNT PLOT')"
      ]
    },
    {
      "cell_type": "code",
      "execution_count": null,
      "metadata": {
        "colab": {
          "base_uri": "https://localhost:8080/"
        },
        "id": "oRzEPgZoSKKX",
        "outputId": "2c587dd9-104d-4ddd-c758-b22a8fed868f"
      },
      "outputs": [
        {
          "output_type": "stream",
          "name": "stdout",
          "text": [
            "Unique Value\n",
            " [1 0]\n",
            "Value Counts\n",
            " 0    4861\n",
            "1     249\n",
            "Name: stroke, dtype: int64\n"
          ]
        }
      ],
      "source": [
        "print('Unique Value\\n',data['stroke'].unique())\n",
        "print('Value Counts\\n',data['stroke'].value_counts())"
      ]
    },
    {
      "cell_type": "markdown",
      "metadata": {
        "id": "x602YibmSZcg"
      },
      "source": [
        "## Return The Correlation"
      ]
    },
    {
      "cell_type": "code",
      "execution_count": null,
      "metadata": {
        "colab": {
          "base_uri": "https://localhost:8080/",
          "height": 694
        },
        "id": "9y6bind6SgjH",
        "outputId": "db335ad0-d1b2-409c-cd82-e44f830c3674"
      },
      "outputs": [
        {
          "output_type": "execute_result",
          "data": {
            "text/plain": [
              "<matplotlib.axes._subplots.AxesSubplot at 0x7f4b817969d0>"
            ]
          },
          "metadata": {},
          "execution_count": 36
        },
        {
          "output_type": "display_data",
          "data": {
            "text/plain": [
              "<Figure size 1080x720 with 2 Axes>"
            ],
            "image/png": "[encoded data removed]"
          },
          "metadata": {
            "needs_background": "light"
          }
        }
      ],
      "source": [
        "plt.figure(figsize=(15,10))\n",
        "sns.heatmap(df.corr(),annot=True,fmt='.2')"
      ]
    },
    {
      "cell_type": "markdown",
      "metadata": {
        "id": "TGBTTJodDxxu"
      },
      "source": [
        "Observation:\n",
        "\n",
        "Variables that are showing some effective correlation are:\n",
        "\n",
        "age, hypertension, heart_disease, ever_married, avg_glucose_level."
      ]
    },
    {
      "cell_type": "code",
      "execution_count": null,
      "metadata": {
        "colab": {
          "base_uri": "https://localhost:8080/",
          "height": 363
        },
        "id": "dlg3HSTSUBHC",
        "outputId": "b3ab1fd4-a4ef-43c4-d611-c49e16bfc399"
      },
      "outputs": [
        {
          "output_type": "execute_result",
          "data": {
            "text/plain": [
              "           Attribute       Score\n",
              "0                age  279.980918\n",
              "1       hypertension  101.729361\n",
              "3  avg_glucose_level   96.585072\n",
              "2      heart_disease   95.175560\n",
              "6       ever_married   54.796734\n",
              "9     smoking_status   13.078821\n",
              "4                bmi    8.826500\n",
              "7          work_type    5.597754\n",
              "5             gender    0.224073\n",
              "8     Residence_type    0.178514"
            ],
            "text/html": [
              "\n",
              "  <div id=\"df-ba158884-43d7-44cc-9d4e-b1315d13ef81\">\n",
              "    <div class=\"colab-df-container\">\n",
              "      <div>\n",
              "<style scoped>\n",
              "    .dataframe tbody tr th:only-of-type {\n",
              "        vertical-align: middle;\n",
              "    }\n",
              "\n",
              "    .dataframe tbody tr th {\n",
              "        vertical-align: top;\n",
              "    }\n",
              "\n",
              "    .dataframe thead th {\n",
              "        text-align: right;\n",
              "    }\n",
              "</style>\n",
              "<table border=\"1\" class=\"dataframe\">\n",
              "  <thead>\n",
              "    <tr style=\"text-align: right;\">\n",
              "      <th></th>\n",
              "      <th>Attribute</th>\n",
              "      <th>Score</th>\n",
              "    </tr>\n",
              "  </thead>\n",
              "  <tbody>\n",
              "    <tr>\n",
              "      <th>0</th>\n",
              "      <td>age</td>\n",
              "      <td>279.980918</td>\n",
              "    </tr>\n",
              "    <tr>\n",
              "      <th>1</th>\n",
              "      <td>hypertension</td>\n",
              "      <td>101.729361</td>\n",
              "    </tr>\n",
              "    <tr>\n",
              "      <th>3</th>\n",
              "      <td>avg_glucose_level</td>\n",
              "      <td>96.585072</td>\n",
              "    </tr>\n",
              "    <tr>\n",
              "      <th>2</th>\n",
              "      <td>heart_disease</td>\n",
              "      <td>95.175560</td>\n",
              "    </tr>\n",
              "    <tr>\n",
              "      <th>6</th>\n",
              "      <td>ever_married</td>\n",
              "      <td>54.796734</td>\n",
              "    </tr>\n",
              "    <tr>\n",
              "      <th>9</th>\n",
              "      <td>smoking_status</td>\n",
              "      <td>13.078821</td>\n",
              "    </tr>\n",
              "    <tr>\n",
              "      <th>4</th>\n",
              "      <td>bmi</td>\n",
              "      <td>8.826500</td>\n",
              "    </tr>\n",
              "    <tr>\n",
              "      <th>7</th>\n",
              "      <td>work_type</td>\n",
              "      <td>5.597754</td>\n",
              "    </tr>\n",
              "    <tr>\n",
              "      <th>5</th>\n",
              "      <td>gender</td>\n",
              "      <td>0.224073</td>\n",
              "    </tr>\n",
              "    <tr>\n",
              "      <th>8</th>\n",
              "      <td>Residence_type</td>\n",
              "      <td>0.178514</td>\n",
              "    </tr>\n",
              "  </tbody>\n",
              "</table>\n",
              "</div>\n",
              "      <button class=\"colab-df-convert\" onclick=\"convertToInteractive('df-ba158884-43d7-44cc-9d4e-b1315d13ef81')\"\n",
              "              title=\"Convert this dataframe to an interactive table.\"\n",
              "              style=\"display:none;\">\n",
              "        \n",
              "  <svg xmlns=\"http://www.w3.org/2000/svg\" height=\"24px\"viewBox=\"0 0 24 24\"\n",
              "       width=\"24px\">\n",
              "    <path d=\"M0 0h24v24H0V0z\" fill=\"none\"/>\n",
              "    <path d=\"M18.56 5.44l.94 2.06.94-2.06 2.06-.94-2.06-.94-.94-2.06-.94 2.06-2.06.94zm-11 1L8.5 8.5l.94-2.06 2.06-.94-2.06-.94L8.5 2.5l-.94 2.06-2.06.94zm10 10l.94 2.06.94-2.06 2.06-.94-2.06-.94-.94-2.06-.94 2.06-2.06.94z\"/><path d=\"M17.41 7.96l-1.37-1.37c-.4-.4-.92-.59-1.43-.59-.52 0-1.04.2-1.43.59L10.3 9.45l-7.72 7.72c-.78.78-.78 2.05 0 2.83L4 21.41c.39.39.9.59 1.41.59.51 0 1.02-.2 1.41-.59l7.78-7.78 2.81-2.81c.8-.78.8-2.07 0-2.86zM5.41 20L4 18.59l7.72-7.72 1.47 1.35L5.41 20z\"/>\n",
              "  </svg>\n",
              "      </button>\n",
              "      \n",
              "  <style>\n",
              "    .colab-df-container {\n",
              "      display:flex;\n",
              "      flex-wrap:wrap;\n",
              "      gap: 12px;\n",
              "    }\n",
              "\n",
              "    .colab-df-convert {\n",
              "      background-color: #E8F0FE;\n",
              "      border: none;\n",
              "      border-radius: 50%;\n",
              "      cursor: pointer;\n",
              "      display: none;\n",
              "      fill: #1967D2;\n",
              "      height: 32px;\n",
              "      padding: 0 0 0 0;\n",
              "      width: 32px;\n",
              "    }\n",
              "\n",
              "    .colab-df-convert:hover {\n",
              "      background-color: #E2EBFA;\n",
              "      box-shadow: 0px 1px 2px rgba(60, 64, 67, 0.3), 0px 1px 3px 1px rgba(60, 64, 67, 0.15);\n",
              "      fill: #174EA6;\n",
              "    }\n",
              "\n",
              "    [theme=dark] .colab-df-convert {\n",
              "      background-color: #3B4455;\n",
              "      fill: #D2E3FC;\n",
              "    }\n",
              "\n",
              "    [theme=dark] .colab-df-convert:hover {\n",
              "      background-color: #434B5C;\n",
              "      box-shadow: 0px 1px 3px 1px rgba(0, 0, 0, 0.15);\n",
              "      filter: drop-shadow(0px 1px 2px rgba(0, 0, 0, 0.3));\n",
              "      fill: #FFFFFF;\n",
              "    }\n",
              "  </style>\n",
              "\n",
              "      <script>\n",
              "        const buttonEl =\n",
              "          document.querySelector('#df-ba158884-43d7-44cc-9d4e-b1315d13ef81 button.colab-df-convert');\n",
              "        buttonEl.style.display =\n",
              "          google.colab.kernel.accessAllowed ? 'block' : 'none';\n",
              "\n",
              "        async function convertToInteractive(key) {\n",
              "          const element = document.querySelector('#df-ba158884-43d7-44cc-9d4e-b1315d13ef81');\n",
              "          const dataTable =\n",
              "            await google.colab.kernel.invokeFunction('convertToInteractive',\n",
              "                                                     [key], {});\n",
              "          if (!dataTable) return;\n",
              "\n",
              "          const docLinkHtml = 'Like what you see? Visit the ' +\n",
              "            '<a target=\"_blank\" href=https://colab.research.google.com/notebooks/data_table.ipynb>data table notebook</a>'\n",
              "            + ' to learn more about interactive tables.';\n",
              "          element.innerHTML = '';\n",
              "          dataTable['output_type'] = 'display_data';\n",
              "          await google.colab.output.renderOutput(dataTable, element);\n",
              "          const docLink = document.createElement('div');\n",
              "          docLink.innerHTML = docLinkHtml;\n",
              "          element.appendChild(docLink);\n",
              "        }\n",
              "      </script>\n",
              "    </div>\n",
              "  </div>\n",
              "  "
            ]
          },
          "metadata": {},
          "execution_count": 37
        }
      ],
      "source": [
        "# chose the type of classifier\n",
        "classifier = SelectKBest(score_func=f_classif,k=5)\n",
        "# fit the x and y to determine the score\n",
        "fits = classifier.fit(x,y)\n",
        "xx=pd.DataFrame(fits.scores_)\n",
        "columns = pd.DataFrame(x.columns)\n",
        "# represent the classifire value in the table \n",
        "fscores = pd.concat([columns,xx],axis=1)\n",
        "fscores.columns = ['Attribute','Score']\n",
        "fscores.sort_values(by='Score',ascending=False)"
      ]
    },
    {
      "cell_type": "markdown",
      "metadata": {
        "id": "iTIibjl7XFEl"
      },
      "source": [
        "In the above result, we can see that age is a highly correlated variable and then it gets decreasing. I am keeping the threshold score as 90. Resulting in the same features we got in the heatmap."
      ]
    },
    {
      "cell_type": "markdown",
      "metadata": {
        "id": "1X0zt25qdxU4"
      },
      "source": [
        "# Build Fuzzy logic model "
      ]
    },
    {
      "cell_type": "markdown",
      "metadata": {
        "id": "Qoy1fsf6uZHt"
      },
      "source": [
        "import skfuzzy"
      ]
    },
    {
      "cell_type": "code",
      "execution_count": null,
      "metadata": {
        "id": "1NrdVZNpuVPV"
      },
      "outputs": [],
      "source": [
        "!pip install scikit-fuzzy > /dev/null 2>&1"
      ]
    },
    {
      "cell_type": "markdown",
      "metadata": {
        "id": "_dgKbvFMuU_s"
      },
      "source": []
    },
    {
      "cell_type": "code",
      "execution_count": null,
      "metadata": {
        "id": "FYbX9FW0dwOY"
      },
      "outputs": [],
      "source": [
        "import skfuzzy as fuzz\n",
        "import skfuzzy.membership as mf"
      ]
    },
    {
      "cell_type": "markdown",
      "metadata": {
        "id": "uWPkRHHRuzTB"
      },
      "source": [
        "Define the range for non catugural data "
      ]
    },
    {
      "cell_type": "code",
      "execution_count": null,
      "metadata": {
        "colab": {
          "base_uri": "https://localhost:8080/",
          "height": 297
        },
        "id": "6knkJEm3Zt0u",
        "outputId": "fcf4cb08-c498-4108-878b-9043eb6a8141"
      },
      "outputs": [
        {
          "output_type": "execute_result",
          "data": {
            "text/plain": [
              "<matplotlib.axes._subplots.AxesSubplot at 0x7f4bac721310>"
            ]
          },
          "metadata": {},
          "execution_count": 40
        },
        {
          "output_type": "display_data",
          "data": {
            "text/plain": [
              "<Figure size 432x288 with 1 Axes>"
            ],
            "image/png": "[encoded data removed]"
          },
          "metadata": {
            "needs_background": "light"
          }
        }
      ],
      "source": [
        "sns.boxplot(data=data, x = \"stroke\", y='avg_glucose_level')"
      ]
    },
    {
      "cell_type": "code",
      "execution_count": null,
      "metadata": {
        "colab": {
          "base_uri": "https://localhost:8080/",
          "height": 297
        },
        "id": "3hKj-EXYbn9b",
        "outputId": "dfa1fc6c-dce2-41de-f0a1-bdfa187ce8d5"
      },
      "outputs": [
        {
          "output_type": "execute_result",
          "data": {
            "text/plain": [
              "<matplotlib.axes._subplots.AxesSubplot at 0x7f4b7f350cd0>"
            ]
          },
          "metadata": {},
          "execution_count": 41
        },
        {
          "output_type": "display_data",
          "data": {
            "text/plain": [
              "<Figure size 432x288 with 1 Axes>"
            ],
            "image/png": "[encoded data removed]"
          },
          "metadata": {
            "needs_background": "light"
          }
        }
      ],
      "source": [
        "sns.boxplot(data=data, x = \"stroke\", y='age')"
      ]
    },
    {
      "cell_type": "code",
      "execution_count": null,
      "metadata": {
        "id": "6AmrnLXOuyrM"
      },
      "outputs": [],
      "source": [
        "r_age = np.arange(0, 101)\n",
        "r_avg\t= np.arange(0, 201)\n",
        "r_hy = np.arange(0,3)\n",
        "r_hd = np.arange(0,3)\n",
        "r_risk = np.arange(0, 111, 1)"
      ]
    },
    {
      "cell_type": "markdown",
      "metadata": {
        "id": "XsswelZiwzV8"
      },
      "source": [
        "patient data"
      ]
    },
    {
      "cell_type": "code",
      "execution_count": null,
      "metadata": {
        "id": "E7i5T44UdtmJ"
      },
      "outputs": [],
      "source": [
        "\n",
        "# in_age = int(input(\"Enter your age: \"))\n",
        "# in_bmi = int(input(\"Enter your BMI: \"))\n",
        "# print(\"Note 1 for True , 0 for False \\n \")\n",
        "# in_hypertension  = int(input(\"Do you have hypertension: \"))\n",
        "# in_heart_disease = int(input(\"Do you have heart disease \"))\n",
        "# in_gender = int(input(\"Are You Male: \"))\n",
        "# in_maried = int(input(\"Do you Married: \"))\n",
        "# in_smoking = int(input(\"are you smoking\"))\n",
        "# in_work = int(\"Is your work type Govt_job(1) or private(2) or self-employed(3) \")\n",
        "# in_residence = int(input(\"Enter your type of residence urban(0) , Rural(1) \"))\n"
      ]
    },
    {
      "cell_type": "markdown",
      "metadata": {
        "id": "YK0dRZgQcN4b"
      },
      "source": [
        "### Membership Functions "
      ]
    },
    {
      "cell_type": "code",
      "execution_count": null,
      "metadata": {
        "id": "FN1Lar35W9u4"
      },
      "outputs": [],
      "source": [
        "age_young = mf.trapmf(r_age, [-30, -5, 30, 40])\n",
        "age_mid = mf.trapmf(r_age, [30, 40, 50, 60]) \n",
        "age_old = mf.trapmf(r_age, [50, 60, 80, 100])\n",
        "\n",
        "\n",
        "avg_low = mf.trapmf(r_avg, [-30, -5, 50, 70])\n",
        "avg_normal = mf.trapmf(r_avg, [70, 100, 120, 150])\n",
        "avg_high = mf.trapmf(r_avg, [120, 150, 200 , 250])\n",
        "\n",
        "hy_not = mf.trapmf(r_hy, [-30, -5, 0, 0.5 ])\n",
        "hy_exc = mf.trapmf(r_hy, [0, 0.5, 1.1,1.2])\n",
        "\n",
        "hd_not = mf.trapmf(r_hd, [-30, -5, 0, 0.5 ])\n",
        "hd_exc = mf.trapmf(r_hd, [0, 0.5, 1.1,1.2])\n",
        "\n",
        "risk_not = mf.trapmf(r_risk, [0 ,10 ,20 ,30])\n",
        "risk_little = mf.trapmf(r_risk, [20 ,30 ,40 ,50])\n",
        "risk_mid = mf.trapmf(r_risk, [40 ,50, 60 ,70])\n",
        "risk_high = mf.trapmf(r_risk, [60 ,70, 80, 90])\n",
        "risk_veryHigh = mf.trapmf(r_risk, [80, 90, 100, 110])\n"
      ]
    },
    {
      "cell_type": "code",
      "execution_count": null,
      "metadata": {
        "colab": {
          "base_uri": "https://localhost:8080/",
          "height": 734
        },
        "id": "Kz2TLEsQdQsc",
        "outputId": "ae61adb3-551f-4c10-8487-3b8e67baab87"
      },
      "outputs": [
        {
          "output_type": "execute_result",
          "data": {
            "text/plain": [
              "<matplotlib.legend.Legend at 0x7f4b7f263610>"
            ]
          },
          "metadata": {},
          "execution_count": 45
        },
        {
          "output_type": "display_data",
          "data": {
            "text/plain": [
              "<Figure size 864x864 with 5 Axes>"
            ],
            "image/png": "[encoded data removed]"
          },
          "metadata": {
            "needs_background": "light"
          }
        }
      ],
      "source": [
        "fig, (ax0, ax1, ax2, ax3, ax4) = plt.subplots(nrows = 5, figsize =(12, 12))\n",
        "ax0.plot(r_age, age_young, 'r', linewidth = 2, label = 'Young')\n",
        "ax0.plot(r_age, age_mid, 'g', linewidth = 2, label = 'Middle')\n",
        "ax0.plot(r_age, age_old, 'b', linewidth = 2, label = 'Old')\n",
        "ax0.set_title('age')\n",
        "ax0.legend()\n",
        "\n",
        "ax1.plot(r_avg, avg_low, 'r', linewidth = 2, label = 'Low')\n",
        "ax1.plot(r_avg, avg_normal, 'g', linewidth = 2, label = 'Middle')\n",
        "ax1.plot(r_avg, avg_high, 'b', linewidth = 2, label = 'High')\n",
        "ax1.set_title('vg_glucose_level')\n",
        "ax1.legend()\n",
        "\n",
        "ax2.plot(r_hy, hy_not, 'r', linewidth = 2, label = 'Not')\n",
        "ax2.plot(r_hy, hy_exc, 'y', linewidth = 2, label = 'High')\n",
        "ax2.set_title('hypertension')\n",
        "ax2.legend()\n",
        "\n",
        "ax3.plot(r_hd, hd_not, 'r', linewidth = 2, label = 'Not')\n",
        "ax3.plot(r_hd, hd_exc, 'y', linewidth = 2, label = 'High')\n",
        "ax3.set_title('Heart Descies ')\n",
        "ax3.legend()\n",
        "\n",
        "ax4.plot(r_risk, risk_not, 'r', linewidth = 2, label = 'Not')\n",
        "ax4.plot(r_risk, risk_little, 'g', linewidth = 2, label = 'Little')\n",
        "ax4.plot(r_risk, risk_mid, 'b', linewidth = 2, label = 'Middle')\n",
        "ax4.plot(r_risk, risk_high, 'y', linewidth = 2, label = 'High')\n",
        "ax4.plot(r_risk, risk_veryHigh, 'm', linewidth = 2, label = 'Very High')\n",
        "ax4.set_title('Risk')\n",
        "ax4.legend()\n",
        "\n"
      ]
    },
    {
      "cell_type": "markdown",
      "metadata": {
        "id": "MB2B5KSzjKkw"
      },
      "source": [
        "# Fitt the Fuzzy with dataset\n"
      ]
    },
    {
      "cell_type": "code",
      "execution_count": null,
      "metadata": {
        "id": "ZO52K9pbjbje"
      },
      "outputs": [],
      "source": [
        "def fuzzy (age, avg_golocose, hypertension, heart_decese):\n",
        "    age_fit_young = fuzz.interp_membership(r_age, age_young, age)\n",
        "    age_fit_mid = fuzz.interp_membership(r_age, age_mid, age)\n",
        "    age_fit_old = fuzz.interp_membership(r_age, age_old,  age)\n",
        "\n",
        "    avg_fit_low = fuzz.interp_membership(r_avg, avg_low, avg_golocose)\n",
        "    avg_fit_mid = fuzz.interp_membership(r_avg, avg_normal, avg_golocose)\n",
        "    avg_fit_high = fuzz.interp_membership(r_avg,avg_high , avg_golocose)\n",
        "\n",
        "    hy_fit_not = fuzz.interp_membership(r_hy, hy_not, hypertension)\n",
        "    hy_fit_exc = fuzz.interp_membership(r_hy, hy_exc, hypertension)    \n",
        "\n",
        "    hd_fit_not = fuzz.interp_membership(r_hd, hd_not, heart_decese)\n",
        "    hd_fit_exc = fuzz.interp_membership(r_hd, hd_exc, heart_decese)    \n",
        "\n",
        "\n",
        "    rule1 = np.fmin(np.fmin(np.fmin(np.fmin(age_fit_young ,avg_fit_low),hy_fit_not), hd_fit_not), risk_not)\n",
        "    rule2 = np.fmin(np.fmin(np.fmin(np.fmin(age_fit_young ,avg_fit_low),hy_fit_not), hd_fit_exc), risk_little) \n",
        "    rule3 = np.fmin(np.fmin(np.fmin(np.fmin(age_fit_young ,avg_fit_low),hy_fit_exc), hd_fit_not), risk_little) \n",
        "    rule4 = np.fmin(np.fmin(np.fmin(np.fmin(age_fit_young ,avg_fit_low),hy_fit_exc), hd_fit_exc), risk_mid) \n",
        "\n",
        "    rule5 = np.fmin(np.fmin(np.fmin(np.fmin(age_fit_young ,avg_fit_mid),hy_fit_not), hd_fit_not), risk_little)\n",
        "    rule6 = np.fmin(np.fmin(np.fmin(np.fmin(age_fit_young ,avg_fit_mid),hy_fit_not), hd_fit_exc), risk_mid) \n",
        "    rule7 = np.fmin(np.fmin(np.fmin(np.fmin(age_fit_young ,avg_fit_mid),hy_fit_exc), hd_fit_not), risk_mid)  \n",
        "    rule8 = np.fmin(np.fmin(np.fmin(np.fmin(age_fit_young ,avg_fit_mid),hy_fit_exc), hd_fit_exc), risk_high)   \n",
        "\n",
        "    rule9  = np.fmin(np.fmin(np.fmin(np.fmin(age_fit_young ,avg_fit_high),hy_fit_not), hd_fit_not), risk_not)\n",
        "    rule10 = np.fmin(np.fmin(np.fmin(np.fmin(age_fit_young ,avg_fit_high),hy_fit_not), hd_fit_exc), risk_little) \n",
        "    rule11 = np.fmin(np.fmin(np.fmin(np.fmin(age_fit_young ,avg_fit_high),hy_fit_exc), hd_fit_not), risk_little) \n",
        "    rule12 = np.fmin(np.fmin(np.fmin(np.fmin(age_fit_young ,avg_fit_high),hy_fit_exc), hd_fit_exc), risk_mid) \n",
        "   \n",
        "    #\n",
        "    rule13 = np.fmin(np.fmin(np.fmin(np.fmin(age_fit_mid ,avg_fit_low),hy_fit_not), hd_fit_not), risk_not)\n",
        "    rule14 = np.fmin(np.fmin(np.fmin(np.fmin(age_fit_mid ,avg_fit_low),hy_fit_not), hd_fit_exc), risk_little) \n",
        "    rule15 = np.fmin(np.fmin(np.fmin(np.fmin(age_fit_mid ,avg_fit_low),hy_fit_exc), hd_fit_not), risk_little) \n",
        "    rule16 = np.fmin(np.fmin(np.fmin(np.fmin(age_fit_mid ,avg_fit_low),hy_fit_exc), hd_fit_exc), risk_mid) \n",
        "\n",
        "    rule17 = np.fmin(np.fmin(np.fmin(np.fmin(age_fit_mid ,avg_fit_mid),hy_fit_not), hd_fit_not), risk_little)\n",
        "    rule18 = np.fmin(np.fmin(np.fmin(np.fmin(age_fit_mid ,avg_fit_mid),hy_fit_not), hd_fit_exc), risk_mid) \n",
        "    rule19 = np.fmin(np.fmin(np.fmin(np.fmin(age_fit_mid ,avg_fit_mid),hy_fit_exc), hd_fit_not), risk_mid)  \n",
        "    rule20 = np.fmin(np.fmin(np.fmin(np.fmin(age_fit_mid ,avg_fit_mid),hy_fit_exc), hd_fit_exc), risk_high)   \n",
        "\n",
        "    rule21 = np.fmin(np.fmin(np.fmin(np.fmin(age_fit_mid ,avg_fit_high),hy_fit_not), hd_fit_not), risk_not)\n",
        "    rule22 = np.fmin(np.fmin(np.fmin(np.fmin(age_fit_mid ,avg_fit_high),hy_fit_not), hd_fit_exc), risk_little) \n",
        "    rule23 = np.fmin(np.fmin(np.fmin(np.fmin(age_fit_mid ,avg_fit_high),hy_fit_exc), hd_fit_not), risk_little) \n",
        "    rule24 = np.fmin(np.fmin(np.fmin(np.fmin(age_fit_mid ,avg_fit_high),hy_fit_exc), hd_fit_exc), risk_mid) \n",
        "   \n",
        "    # \n",
        "    rule25 = np.fmin(np.fmin(np.fmin(np.fmin(age_fit_old ,avg_fit_low),hy_fit_not), hd_fit_not), risk_little)\n",
        "    rule26 = np.fmin(np.fmin(np.fmin(np.fmin(age_fit_old ,avg_fit_low),hy_fit_not), hd_fit_exc), risk_mid) \n",
        "    rule27 = np.fmin(np.fmin(np.fmin(np.fmin(age_fit_old ,avg_fit_low),hy_fit_exc), hd_fit_not), risk_mid) \n",
        "    rule28 = np.fmin(np.fmin(np.fmin(np.fmin(age_fit_old ,avg_fit_low),hy_fit_exc), hd_fit_exc), risk_high) \n",
        "\n",
        "    rule29 = np.fmin(np.fmin(np.fmin(np.fmin(age_fit_old ,avg_fit_mid),hy_fit_not), hd_fit_not), risk_mid)\n",
        "    rule30 = np.fmin(np.fmin(np.fmin(np.fmin(age_fit_old ,avg_fit_mid),hy_fit_not), hd_fit_exc), risk_high) \n",
        "    rule31 = np.fmin(np.fmin(np.fmin(np.fmin(age_fit_old ,avg_fit_mid),hy_fit_exc), hd_fit_not), risk_high)  \n",
        "    rule32 = np.fmin(np.fmin(np.fmin(np.fmin(age_fit_old ,avg_fit_mid),hy_fit_exc), hd_fit_exc), risk_veryHigh)   \n",
        "\n",
        "    rule33 = np.fmin(np.fmin(np.fmin(np.fmin(age_fit_old ,avg_fit_high),hy_fit_not), hd_fit_not), risk_high)\n",
        "    rule34 = np.fmin(np.fmin(np.fmin(np.fmin(age_fit_old ,avg_fit_high),hy_fit_not), hd_fit_exc), risk_veryHigh) \n",
        "    rule35 = np.fmin(np.fmin(np.fmin(np.fmin(age_fit_old ,avg_fit_high),hy_fit_exc), hd_fit_not), risk_veryHigh) \n",
        "    rule36 = np.fmin(np.fmin(np.fmin(np.fmin(age_fit_old ,avg_fit_high),hy_fit_exc), hd_fit_exc), risk_veryHigh) \n",
        "\n",
        "    #\n",
        "    out_not = np.fmax(np.fmax(np.fmax(rule1,rule9),rule13),rule21)\n",
        "    out_little = np.fmax(np.fmax(np.fmax(np.fmax(np.fmax(np.fmax(np.fmax(np.fmax(np.fmax(np.fmax(rule2,rule3),rule5),rule10),rule11),rule14),rule15),rule17),rule22),rule23),rule25)\n",
        "    out_mid = np.fmax(np.fmax(np.fmax(np.fmax(np.fmax(np.fmax(np.fmax(np.fmax(np.fmax(np.fmax(rule4,rule6),rule7),rule12), rule16),rule18),rule19),rule24),rule26),rule27),rule29)\n",
        "    out_high = np.fmax(np.fmax(np.fmax(np.fmax(np.fmax(np.fmax(rule8, rule20),rule28),rule30),rule31),rule33),rule34)\n",
        "    out_veryHigh = np.fmax(np.fmax(rule32,rule35), rule36)\n",
        "\n",
        "    risk0 = np.zeros_like(r_risk)\n",
        "\n",
        "    out_risk = np.fmax(np.fmax(np.fmax(np.fmax(out_not, out_little), out_mid), out_high), out_veryHigh)\n",
        "\n",
        "    defuzzified  = fuzz.defuzz(r_risk, out_risk, 'centroid')\n",
        "    \n",
        "\n",
        "    return 1 if defuzzified > 50 else 0 "
      ]
    },
    {
      "cell_type": "markdown",
      "source": [
        "# Use fuzzy logic for prediction "
      ],
      "metadata": {
        "id": "PmnW50fQ4Epd"
      }
    },
    {
      "cell_type": "code",
      "execution_count": null,
      "metadata": {
        "colab": {
          "base_uri": "https://localhost:8080/"
        },
        "id": "4C05KEz1m1JH",
        "outputId": "d38c5f0e-805b-4d92-df7d-836c999a63ea"
      },
      "outputs": [
        {
          "output_type": "execute_result",
          "data": {
            "text/plain": [
              "1"
            ]
          },
          "metadata": {},
          "execution_count": 47
        }
      ],
      "source": [
        "fuzzy (age = 99, avg_golocose = 119, hypertension = 0, heart_decese = 1)"
      ]
    },
    {
      "cell_type": "code",
      "source": [
        "from sklearn.metrics import accuracy_score\n",
        "predict = []\n",
        "for i in range(len(y)):\n",
        "    predict.append(fuzzy(x[\"age\"][i], x[\"avg_glucose_level\"][i], x[\"hypertension\"][i], x[\"heart_disease\"][i]))\n",
        "print(\"prediction accuracy: \",accuracy_score(y,predict))"
      ],
      "metadata": {
        "colab": {
          "base_uri": "https://localhost:8080/"
        },
        "id": "gikSDO9l4JQe",
        "outputId": "ab4108bc-33e2-4682-a7b9-86a1d638d6ed"
      },
      "execution_count": null,
      "outputs": [
        {
          "output_type": "stream",
          "name": "stdout",
          "text": [
            "prediction accuracy:  0.9476471786514565\n"
          ]
        }
      ]
    },
    {
      "cell_type": "code",
      "source": [],
      "metadata": {
        "id": "XaQvodrk5B9_"
      },
      "execution_count": null,
      "outputs": []
    },
    {
      "cell_type": "markdown",
      "metadata": {
        "id": "2m_US3oDqHw7"
      },
      "source": []
    }
  ],
  "metadata": {
    "colab": {
      "provenance": [],
      "authorship_tag": "ABX9TyMrwgMYK97niPqeoTg0j5Rn",
      "include_colab_link": true
    },
    "kernelspec": {
      "display_name": "Python 3",
      "name": "python3"
    },
    "language_info": {
      "name": "python"
    }
  },
  "nbformat": 4,
  "nbformat_minor": 0
}