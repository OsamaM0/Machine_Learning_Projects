{
  "nbformat": 4,
  "nbformat_minor": 0,
  "metadata": {
    "colab": {
      "provenance": [],
      "toc_visible": true,
      "authorship_tag": "ABX9TyNWw9Y8JzbdbAOHHEOTkjtb",
      "include_colab_link": true
    },
    "kernelspec": {
      "name": "python3",
      "display_name": "Python 3"
    },
    "language_info": {
      "name": "python"
    }
  },
  "cells": [
    {
      "cell_type": "markdown",
      "metadata": {
        "id": "view-in-github",
        "colab_type": "text"
      },
      "source": [
        "<a href=\"https://colab.research.google.com/github/OsamaM0/Machine_Learning_Projects/blob/Optimization-Projects-(Soft-Computing)/ANN_Stroke.ipynb\" target=\"_parent\"><img src=\"https://colab.research.google.com/assets/colab-badge.svg\" alt=\"Open In Colab\"/></a>"
      ]
    },
    {
      "cell_type": "markdown",
      "source": [
        "#Prepare the dataset"
      ],
      "metadata": {
        "id": "uv2cBRNP5qhQ"
      }
    },
    {
      "cell_type": "markdown",
      "source": [
        "## import libraries"
      ],
      "metadata": {
        "id": "50Q8zDuQ5u_0"
      }
    },
    {
      "cell_type": "code",
      "execution_count": null,
      "metadata": {
        "id": "ZKgnmOpTg7WU"
      },
      "outputs": [],
      "source": [
        "import pandas as pd \n",
        "import numpy as np\n",
        "import matplotlib.pyplot  as plt\n",
        "import time\n",
        "import tensorflow as ts\n",
        "from tensorflow import keras as tk\n",
        "\n",
        "%matplotlib inline \n",
        "import warnings\n",
        "warnings.filterwarnings(\"ignore\")"
      ]
    },
    {
      "cell_type": "markdown",
      "source": [
        "## import the dataset"
      ],
      "metadata": {
        "id": "p1Kc37cI6GJz"
      }
    },
    {
      "cell_type": "code",
      "source": [
        "data = pd.read_csv(r\"/content/healthcare-dataset-stroke-data.csv\")\n",
        "data.head"
      ],
      "metadata": {
        "colab": {
          "base_uri": "https://localhost:8080/"
        },
        "id": "VaS_10f5hTeH",
        "outputId": "e798737e-4a92-4838-f7ee-5a66011cf704"
      },
      "execution_count": null,
      "outputs": [
        {
          "output_type": "execute_result",
          "data": {
            "text/plain": [
              "<bound method NDFrame.head of          id  gender   age  hypertension  heart_disease ever_married  \\\n",
              "0      9046    Male  67.0             0              1          Yes   \n",
              "1     51676  Female  61.0             0              0          Yes   \n",
              "2     31112    Male  80.0             0              1          Yes   \n",
              "3     60182  Female  49.0             0              0          Yes   \n",
              "4      1665  Female  79.0             1              0          Yes   \n",
              "...     ...     ...   ...           ...            ...          ...   \n",
              "5105  18234  Female  80.0             1              0          Yes   \n",
              "5106  44873  Female  81.0             0              0          Yes   \n",
              "5107  19723  Female  35.0             0              0          Yes   \n",
              "5108  37544    Male  51.0             0              0          Yes   \n",
              "5109  44679  Female  44.0             0              0          Yes   \n",
              "\n",
              "          work_type Residence_type  avg_glucose_level   bmi   smoking_status  \\\n",
              "0           Private          Urban             228.69  36.6  formerly smoked   \n",
              "1     Self-employed          Rural             202.21   NaN     never smoked   \n",
              "2           Private          Rural             105.92  32.5     never smoked   \n",
              "3           Private          Urban             171.23  34.4           smokes   \n",
              "4     Self-employed          Rural             174.12  24.0     never smoked   \n",
              "...             ...            ...                ...   ...              ...   \n",
              "5105        Private          Urban              83.75   NaN     never smoked   \n",
              "5106  Self-employed          Urban             125.20  40.0     never smoked   \n",
              "5107  Self-employed          Rural              82.99  30.6     never smoked   \n",
              "5108        Private          Rural             166.29  25.6  formerly smoked   \n",
              "5109       Govt_job          Urban              85.28  26.2          Unknown   \n",
              "\n",
              "      stroke  \n",
              "0          1  \n",
              "1          1  \n",
              "2          1  \n",
              "3          1  \n",
              "4          1  \n",
              "...      ...  \n",
              "5105       0  \n",
              "5106       0  \n",
              "5107       0  \n",
              "5108       0  \n",
              "5109       0  \n",
              "\n",
              "[5110 rows x 12 columns]>"
            ]
          },
          "metadata": {},
          "execution_count": 15
        }
      ]
    },
    {
      "cell_type": "markdown",
      "source": [
        "## Choose Numerical Features"
      ],
      "metadata": {
        "id": "9XQmeHjA6N60"
      }
    },
    {
      "cell_type": "code",
      "source": [
        "df=data[['age', 'hypertension', 'heart_disease', 'avg_glucose_level', 'bmi','stroke']]\n",
        "df.head()"
      ],
      "metadata": {
        "colab": {
          "base_uri": "https://localhost:8080/",
          "height": 206
        },
        "id": "TVRw6lR4hYZF",
        "outputId": "1ec6e729-ddc6-4a35-8a40-71ffeb7087ba"
      },
      "execution_count": null,
      "outputs": [
        {
          "output_type": "execute_result",
          "data": {
            "text/plain": [
              "    age  hypertension  heart_disease  avg_glucose_level   bmi  stroke\n",
              "0  67.0             0              1             228.69  36.6       1\n",
              "1  61.0             0              0             202.21   NaN       1\n",
              "2  80.0             0              1             105.92  32.5       1\n",
              "3  49.0             0              0             171.23  34.4       1\n",
              "4  79.0             1              0             174.12  24.0       1"
            ],
            "text/html": [
              "\n",
              "  <div id=\"df-5ba7cb31-72d2-4853-8b26-e28da929b61d\">\n",
              "    <div class=\"colab-df-container\">\n",
              "      <div>\n",
              "<style scoped>\n",
              "    .dataframe tbody tr th:only-of-type {\n",
              "        vertical-align: middle;\n",
              "    }\n",
              "\n",
              "    .dataframe tbody tr th {\n",
              "        vertical-align: top;\n",
              "    }\n",
              "\n",
              "    .dataframe thead th {\n",
              "        text-align: right;\n",
              "    }\n",
              "</style>\n",
              "<table border=\"1\" class=\"dataframe\">\n",
              "  <thead>\n",
              "    <tr style=\"text-align: right;\">\n",
              "      <th></th>\n",
              "      <th>age</th>\n",
              "      <th>hypertension</th>\n",
              "      <th>heart_disease</th>\n",
              "      <th>avg_glucose_level</th>\n",
              "      <th>bmi</th>\n",
              "      <th>stroke</th>\n",
              "    </tr>\n",
              "  </thead>\n",
              "  <tbody>\n",
              "    <tr>\n",
              "      <th>0</th>\n",
              "      <td>67.0</td>\n",
              "      <td>0</td>\n",
              "      <td>1</td>\n",
              "      <td>228.69</td>\n",
              "      <td>36.6</td>\n",
              "      <td>1</td>\n",
              "    </tr>\n",
              "    <tr>\n",
              "      <th>1</th>\n",
              "      <td>61.0</td>\n",
              "      <td>0</td>\n",
              "      <td>0</td>\n",
              "      <td>202.21</td>\n",
              "      <td>NaN</td>\n",
              "      <td>1</td>\n",
              "    </tr>\n",
              "    <tr>\n",
              "      <th>2</th>\n",
              "      <td>80.0</td>\n",
              "      <td>0</td>\n",
              "      <td>1</td>\n",
              "      <td>105.92</td>\n",
              "      <td>32.5</td>\n",
              "      <td>1</td>\n",
              "    </tr>\n",
              "    <tr>\n",
              "      <th>3</th>\n",
              "      <td>49.0</td>\n",
              "      <td>0</td>\n",
              "      <td>0</td>\n",
              "      <td>171.23</td>\n",
              "      <td>34.4</td>\n",
              "      <td>1</td>\n",
              "    </tr>\n",
              "    <tr>\n",
              "      <th>4</th>\n",
              "      <td>79.0</td>\n",
              "      <td>1</td>\n",
              "      <td>0</td>\n",
              "      <td>174.12</td>\n",
              "      <td>24.0</td>\n",
              "      <td>1</td>\n",
              "    </tr>\n",
              "  </tbody>\n",
              "</table>\n",
              "</div>\n",
              "      <button class=\"colab-df-convert\" onclick=\"convertToInteractive('df-5ba7cb31-72d2-4853-8b26-e28da929b61d')\"\n",
              "              title=\"Convert this dataframe to an interactive table.\"\n",
              "              style=\"display:none;\">\n",
              "        \n",
              "  <svg xmlns=\"http://www.w3.org/2000/svg\" height=\"24px\"viewBox=\"0 0 24 24\"\n",
              "       width=\"24px\">\n",
              "    <path d=\"M0 0h24v24H0V0z\" fill=\"none\"/>\n",
              "    <path d=\"M18.56 5.44l.94 2.06.94-2.06 2.06-.94-2.06-.94-.94-2.06-.94 2.06-2.06.94zm-11 1L8.5 8.5l.94-2.06 2.06-.94-2.06-.94L8.5 2.5l-.94 2.06-2.06.94zm10 10l.94 2.06.94-2.06 2.06-.94-2.06-.94-.94-2.06-.94 2.06-2.06.94z\"/><path d=\"M17.41 7.96l-1.37-1.37c-.4-.4-.92-.59-1.43-.59-.52 0-1.04.2-1.43.59L10.3 9.45l-7.72 7.72c-.78.78-.78 2.05 0 2.83L4 21.41c.39.39.9.59 1.41.59.51 0 1.02-.2 1.41-.59l7.78-7.78 2.81-2.81c.8-.78.8-2.07 0-2.86zM5.41 20L4 18.59l7.72-7.72 1.47 1.35L5.41 20z\"/>\n",
              "  </svg>\n",
              "      </button>\n",
              "      \n",
              "  <style>\n",
              "    .colab-df-container {\n",
              "      display:flex;\n",
              "      flex-wrap:wrap;\n",
              "      gap: 12px;\n",
              "    }\n",
              "\n",
              "    .colab-df-convert {\n",
              "      background-color: #E8F0FE;\n",
              "      border: none;\n",
              "      border-radius: 50%;\n",
              "      cursor: pointer;\n",
              "      display: none;\n",
              "      fill: #1967D2;\n",
              "      height: 32px;\n",
              "      padding: 0 0 0 0;\n",
              "      width: 32px;\n",
              "    }\n",
              "\n",
              "    .colab-df-convert:hover {\n",
              "      background-color: #E2EBFA;\n",
              "      box-shadow: 0px 1px 2px rgba(60, 64, 67, 0.3), 0px 1px 3px 1px rgba(60, 64, 67, 0.15);\n",
              "      fill: #174EA6;\n",
              "    }\n",
              "\n",
              "    [theme=dark] .colab-df-convert {\n",
              "      background-color: #3B4455;\n",
              "      fill: #D2E3FC;\n",
              "    }\n",
              "\n",
              "    [theme=dark] .colab-df-convert:hover {\n",
              "      background-color: #434B5C;\n",
              "      box-shadow: 0px 1px 3px 1px rgba(0, 0, 0, 0.15);\n",
              "      filter: drop-shadow(0px 1px 2px rgba(0, 0, 0, 0.3));\n",
              "      fill: #FFFFFF;\n",
              "    }\n",
              "  </style>\n",
              "\n",
              "      <script>\n",
              "        const buttonEl =\n",
              "          document.querySelector('#df-5ba7cb31-72d2-4853-8b26-e28da929b61d button.colab-df-convert');\n",
              "        buttonEl.style.display =\n",
              "          google.colab.kernel.accessAllowed ? 'block' : 'none';\n",
              "\n",
              "        async function convertToInteractive(key) {\n",
              "          const element = document.querySelector('#df-5ba7cb31-72d2-4853-8b26-e28da929b61d');\n",
              "          const dataTable =\n",
              "            await google.colab.kernel.invokeFunction('convertToInteractive',\n",
              "                                                     [key], {});\n",
              "          if (!dataTable) return;\n",
              "\n",
              "          const docLinkHtml = 'Like what you see? Visit the ' +\n",
              "            '<a target=\"_blank\" href=https://colab.research.google.com/notebooks/data_table.ipynb>data table notebook</a>'\n",
              "            + ' to learn more about interactive tables.';\n",
              "          element.innerHTML = '';\n",
              "          dataTable['output_type'] = 'display_data';\n",
              "          await google.colab.output.renderOutput(dataTable, element);\n",
              "          const docLink = document.createElement('div');\n",
              "          docLink.innerHTML = docLinkHtml;\n",
              "          element.appendChild(docLink);\n",
              "        }\n",
              "      </script>\n",
              "    </div>\n",
              "  </div>\n",
              "  "
            ]
          },
          "metadata": {},
          "execution_count": 21
        }
      ]
    },
    {
      "cell_type": "markdown",
      "source": [
        "## Encoding The Non Numerically Features"
      ],
      "metadata": {
        "id": "hHs-Sf7ghiGS"
      }
    },
    {
      "cell_type": "code",
      "source": [
        "from sklearn.preprocessing import LabelEncoder\n",
        "le=LabelEncoder()\n",
        "df['gender']=le.fit_transform(data['gender'])\n",
        "df['ever_married']=le.fit_transform(data['ever_married'])\n",
        "df['work_type']=le.fit_transform(data['work_type'])\n",
        "df['Residence_type']=le.fit_transform(data['Residence_type'])\n",
        "df['smoking_status']=le.fit_transform(data['smoking_status'])\n",
        "df.head()"
      ],
      "metadata": {
        "colab": {
          "base_uri": "https://localhost:8080/",
          "height": 270
        },
        "id": "mMxwpCkqhdwZ",
        "outputId": "bccb0e7d-025c-42bc-e5cd-d806b48b19f7"
      },
      "execution_count": null,
      "outputs": [
        {
          "output_type": "execute_result",
          "data": {
            "text/plain": [
              "    age  hypertension  heart_disease  avg_glucose_level   bmi  stroke  gender  \\\n",
              "0  67.0             0              1             228.69  36.6       1       1   \n",
              "1  61.0             0              0             202.21   NaN       1       0   \n",
              "2  80.0             0              1             105.92  32.5       1       1   \n",
              "3  49.0             0              0             171.23  34.4       1       0   \n",
              "4  79.0             1              0             174.12  24.0       1       0   \n",
              "\n",
              "   ever_married  work_type  Residence_type  smoking_status  \n",
              "0             1          2               1               1  \n",
              "1             1          3               0               2  \n",
              "2             1          2               0               2  \n",
              "3             1          2               1               3  \n",
              "4             1          3               0               2  "
            ],
            "text/html": [
              "\n",
              "  <div id=\"df-26901752-aeb4-40c7-80d4-88ddf3703997\">\n",
              "    <div class=\"colab-df-container\">\n",
              "      <div>\n",
              "<style scoped>\n",
              "    .dataframe tbody tr th:only-of-type {\n",
              "        vertical-align: middle;\n",
              "    }\n",
              "\n",
              "    .dataframe tbody tr th {\n",
              "        vertical-align: top;\n",
              "    }\n",
              "\n",
              "    .dataframe thead th {\n",
              "        text-align: right;\n",
              "    }\n",
              "</style>\n",
              "<table border=\"1\" class=\"dataframe\">\n",
              "  <thead>\n",
              "    <tr style=\"text-align: right;\">\n",
              "      <th></th>\n",
              "      <th>age</th>\n",
              "      <th>hypertension</th>\n",
              "      <th>heart_disease</th>\n",
              "      <th>avg_glucose_level</th>\n",
              "      <th>bmi</th>\n",
              "      <th>stroke</th>\n",
              "      <th>gender</th>\n",
              "      <th>ever_married</th>\n",
              "      <th>work_type</th>\n",
              "      <th>Residence_type</th>\n",
              "      <th>smoking_status</th>\n",
              "    </tr>\n",
              "  </thead>\n",
              "  <tbody>\n",
              "    <tr>\n",
              "      <th>0</th>\n",
              "      <td>67.0</td>\n",
              "      <td>0</td>\n",
              "      <td>1</td>\n",
              "      <td>228.69</td>\n",
              "      <td>36.6</td>\n",
              "      <td>1</td>\n",
              "      <td>1</td>\n",
              "      <td>1</td>\n",
              "      <td>2</td>\n",
              "      <td>1</td>\n",
              "      <td>1</td>\n",
              "    </tr>\n",
              "    <tr>\n",
              "      <th>1</th>\n",
              "      <td>61.0</td>\n",
              "      <td>0</td>\n",
              "      <td>0</td>\n",
              "      <td>202.21</td>\n",
              "      <td>NaN</td>\n",
              "      <td>1</td>\n",
              "      <td>0</td>\n",
              "      <td>1</td>\n",
              "      <td>3</td>\n",
              "      <td>0</td>\n",
              "      <td>2</td>\n",
              "    </tr>\n",
              "    <tr>\n",
              "      <th>2</th>\n",
              "      <td>80.0</td>\n",
              "      <td>0</td>\n",
              "      <td>1</td>\n",
              "      <td>105.92</td>\n",
              "      <td>32.5</td>\n",
              "      <td>1</td>\n",
              "      <td>1</td>\n",
              "      <td>1</td>\n",
              "      <td>2</td>\n",
              "      <td>0</td>\n",
              "      <td>2</td>\n",
              "    </tr>\n",
              "    <tr>\n",
              "      <th>3</th>\n",
              "      <td>49.0</td>\n",
              "      <td>0</td>\n",
              "      <td>0</td>\n",
              "      <td>171.23</td>\n",
              "      <td>34.4</td>\n",
              "      <td>1</td>\n",
              "      <td>0</td>\n",
              "      <td>1</td>\n",
              "      <td>2</td>\n",
              "      <td>1</td>\n",
              "      <td>3</td>\n",
              "    </tr>\n",
              "    <tr>\n",
              "      <th>4</th>\n",
              "      <td>79.0</td>\n",
              "      <td>1</td>\n",
              "      <td>0</td>\n",
              "      <td>174.12</td>\n",
              "      <td>24.0</td>\n",
              "      <td>1</td>\n",
              "      <td>0</td>\n",
              "      <td>1</td>\n",
              "      <td>3</td>\n",
              "      <td>0</td>\n",
              "      <td>2</td>\n",
              "    </tr>\n",
              "  </tbody>\n",
              "</table>\n",
              "</div>\n",
              "      <button class=\"colab-df-convert\" onclick=\"convertToInteractive('df-26901752-aeb4-40c7-80d4-88ddf3703997')\"\n",
              "              title=\"Convert this dataframe to an interactive table.\"\n",
              "              style=\"display:none;\">\n",
              "        \n",
              "  <svg xmlns=\"http://www.w3.org/2000/svg\" height=\"24px\"viewBox=\"0 0 24 24\"\n",
              "       width=\"24px\">\n",
              "    <path d=\"M0 0h24v24H0V0z\" fill=\"none\"/>\n",
              "    <path d=\"M18.56 5.44l.94 2.06.94-2.06 2.06-.94-2.06-.94-.94-2.06-.94 2.06-2.06.94zm-11 1L8.5 8.5l.94-2.06 2.06-.94-2.06-.94L8.5 2.5l-.94 2.06-2.06.94zm10 10l.94 2.06.94-2.06 2.06-.94-2.06-.94-.94-2.06-.94 2.06-2.06.94z\"/><path d=\"M17.41 7.96l-1.37-1.37c-.4-.4-.92-.59-1.43-.59-.52 0-1.04.2-1.43.59L10.3 9.45l-7.72 7.72c-.78.78-.78 2.05 0 2.83L4 21.41c.39.39.9.59 1.41.59.51 0 1.02-.2 1.41-.59l7.78-7.78 2.81-2.81c.8-.78.8-2.07 0-2.86zM5.41 20L4 18.59l7.72-7.72 1.47 1.35L5.41 20z\"/>\n",
              "  </svg>\n",
              "      </button>\n",
              "      \n",
              "  <style>\n",
              "    .colab-df-container {\n",
              "      display:flex;\n",
              "      flex-wrap:wrap;\n",
              "      gap: 12px;\n",
              "    }\n",
              "\n",
              "    .colab-df-convert {\n",
              "      background-color: #E8F0FE;\n",
              "      border: none;\n",
              "      border-radius: 50%;\n",
              "      cursor: pointer;\n",
              "      display: none;\n",
              "      fill: #1967D2;\n",
              "      height: 32px;\n",
              "      padding: 0 0 0 0;\n",
              "      width: 32px;\n",
              "    }\n",
              "\n",
              "    .colab-df-convert:hover {\n",
              "      background-color: #E2EBFA;\n",
              "      box-shadow: 0px 1px 2px rgba(60, 64, 67, 0.3), 0px 1px 3px 1px rgba(60, 64, 67, 0.15);\n",
              "      fill: #174EA6;\n",
              "    }\n",
              "\n",
              "    [theme=dark] .colab-df-convert {\n",
              "      background-color: #3B4455;\n",
              "      fill: #D2E3FC;\n",
              "    }\n",
              "\n",
              "    [theme=dark] .colab-df-convert:hover {\n",
              "      background-color: #434B5C;\n",
              "      box-shadow: 0px 1px 3px 1px rgba(0, 0, 0, 0.15);\n",
              "      filter: drop-shadow(0px 1px 2px rgba(0, 0, 0, 0.3));\n",
              "      fill: #FFFFFF;\n",
              "    }\n",
              "  </style>\n",
              "\n",
              "      <script>\n",
              "        const buttonEl =\n",
              "          document.querySelector('#df-26901752-aeb4-40c7-80d4-88ddf3703997 button.colab-df-convert');\n",
              "        buttonEl.style.display =\n",
              "          google.colab.kernel.accessAllowed ? 'block' : 'none';\n",
              "\n",
              "        async function convertToInteractive(key) {\n",
              "          const element = document.querySelector('#df-26901752-aeb4-40c7-80d4-88ddf3703997');\n",
              "          const dataTable =\n",
              "            await google.colab.kernel.invokeFunction('convertToInteractive',\n",
              "                                                     [key], {});\n",
              "          if (!dataTable) return;\n",
              "\n",
              "          const docLinkHtml = 'Like what you see? Visit the ' +\n",
              "            '<a target=\"_blank\" href=https://colab.research.google.com/notebooks/data_table.ipynb>data table notebook</a>'\n",
              "            + ' to learn more about interactive tables.';\n",
              "          element.innerHTML = '';\n",
              "          dataTable['output_type'] = 'display_data';\n",
              "          await google.colab.output.renderOutput(dataTable, element);\n",
              "          const docLink = document.createElement('div');\n",
              "          docLink.innerHTML = docLinkHtml;\n",
              "          element.appendChild(docLink);\n",
              "        }\n",
              "      </script>\n",
              "    </div>\n",
              "  </div>\n",
              "  "
            ]
          },
          "metadata": {},
          "execution_count": 22
        }
      ]
    },
    {
      "cell_type": "code",
      "source": [
        "df = df.dropna(axis=0, subset=['bmi'])\n",
        "df.reset_index(drop=True, inplace=True)\n",
        "from sklearn.preprocessing import MinMaxScaler\n",
        "scaler=MinMaxScaler()\n",
        "cols_to_scale=[\"age\",\"avg_glucose_level\",\"bmi\"]\n",
        "df[cols_to_scale] = scaler.fit_transform(df[cols_to_scale])"
      ],
      "metadata": {
        "id": "vJtrTE28hnax"
      },
      "execution_count": null,
      "outputs": []
    },
    {
      "cell_type": "markdown",
      "source": [
        "## split the data"
      ],
      "metadata": {
        "id": "kjPoj0wghvdB"
      }
    },
    {
      "cell_type": "code",
      "source": [
        "y=df['stroke']\n",
        "x=df.drop('stroke',axis=1)\n",
        "x.shape,y.shape"
      ],
      "metadata": {
        "colab": {
          "base_uri": "https://localhost:8080/"
        },
        "id": "ZWOtAbfWhpFi",
        "outputId": "9b6753e5-8d09-472a-da92-54d9856c91b1"
      },
      "execution_count": null,
      "outputs": [
        {
          "output_type": "execute_result",
          "data": {
            "text/plain": [
              "((4909, 10), (4909,))"
            ]
          },
          "metadata": {},
          "execution_count": 24
        }
      ]
    },
    {
      "cell_type": "code",
      "source": [
        "from sklearn.model_selection import train_test_split\n",
        "X_tr, X_te, Y_tr, Y_te = train_test_split(x, y, test_size=0.25, random_state=42)\n",
        "\n",
        "  "
      ],
      "metadata": {
        "id": "Gu-Uiyab7cbD"
      },
      "execution_count": null,
      "outputs": []
    },
    {
      "cell_type": "markdown",
      "source": [
        "#Build the ANN"
      ],
      "metadata": {
        "id": "Z2J7arv8h04K"
      }
    },
    {
      "cell_type": "markdown",
      "source": [
        "## Build layeres of ANN"
      ],
      "metadata": {
        "id": "X8Ht2RgZ6ctr"
      }
    },
    {
      "cell_type": "code",
      "source": [
        "model = tk.Sequential([\n",
        "  tk.layers.Flatten(),\n",
        "  tk.layers.Dense(25,activation = \"relu\"),  \n",
        "  tk.layers.Dense(25,activation = \"relu\"),\n",
        "  tk.layers.Dense(1,activation = \"sigmoid\")  \n",
        "])"
      ],
      "metadata": {
        "id": "eQA_dZDZh10q"
      },
      "execution_count": null,
      "outputs": []
    },
    {
      "cell_type": "markdown",
      "source": [
        "## Compile the layeres of ANN"
      ],
      "metadata": {
        "id": "hRM5jp2T8DJB"
      }
    },
    {
      "cell_type": "code",
      "source": [
        "model.compile(\"adam\",\"binary_crossentropy\", metrics=['accuracy'] )"
      ],
      "metadata": {
        "id": "QQ39_MzSj3c8"
      },
      "execution_count": null,
      "outputs": []
    },
    {
      "cell_type": "markdown",
      "source": [
        "## Train the model"
      ],
      "metadata": {
        "id": "9BCOJymW8Gpp"
      }
    },
    {
      "cell_type": "code",
      "source": [
        "t0 = time.time()\n",
        "history = model.fit(X_tr, Y_tr, epochs=50, batch_size=8, validation_split=0.1)\n",
        "t1 = time.time()\n",
        "\n",
        "print(\"Time taken to train the model: \", t1-t0, \"secs\")"
      ],
      "metadata": {
        "colab": {
          "base_uri": "https://localhost:8080/"
        },
        "id": "FpMMAgQvkh9x",
        "outputId": "5cf4c88e-07b1-4bcd-b477-d3998ae3355a"
      },
      "execution_count": null,
      "outputs": [
        {
          "output_type": "stream",
          "name": "stdout",
          "text": [
            "Epoch 1/50\n",
            "414/414 [==============================] - 2s 3ms/step - loss: 0.2024 - accuracy: 0.9541 - val_loss: 0.2177 - val_accuracy: 0.9485\n",
            "Epoch 2/50\n",
            "414/414 [==============================] - 1s 2ms/step - loss: 0.1573 - accuracy: 0.9617 - val_loss: 0.2027 - val_accuracy: 0.9485\n",
            "Epoch 3/50\n",
            "414/414 [==============================] - 1s 2ms/step - loss: 0.1470 - accuracy: 0.9617 - val_loss: 0.2106 - val_accuracy: 0.9485\n",
            "Epoch 4/50\n",
            "414/414 [==============================] - 1s 2ms/step - loss: 0.1424 - accuracy: 0.9617 - val_loss: 0.2010 - val_accuracy: 0.9485\n",
            "Epoch 5/50\n",
            "414/414 [==============================] - 1s 2ms/step - loss: 0.1388 - accuracy: 0.9617 - val_loss: 0.2034 - val_accuracy: 0.9485\n",
            "Epoch 6/50\n",
            "414/414 [==============================] - 1s 2ms/step - loss: 0.1377 - accuracy: 0.9617 - val_loss: 0.1934 - val_accuracy: 0.9485\n",
            "Epoch 7/50\n",
            "414/414 [==============================] - 1s 2ms/step - loss: 0.1356 - accuracy: 0.9617 - val_loss: 0.1937 - val_accuracy: 0.9485\n",
            "Epoch 8/50\n",
            "414/414 [==============================] - 1s 2ms/step - loss: 0.1345 - accuracy: 0.9617 - val_loss: 0.1935 - val_accuracy: 0.9485\n",
            "Epoch 9/50\n",
            "414/414 [==============================] - 1s 2ms/step - loss: 0.1327 - accuracy: 0.9617 - val_loss: 0.2056 - val_accuracy: 0.9485\n",
            "Epoch 10/50\n",
            "414/414 [==============================] - 1s 2ms/step - loss: 0.1312 - accuracy: 0.9617 - val_loss: 0.1947 - val_accuracy: 0.9485\n",
            "Epoch 11/50\n",
            "414/414 [==============================] - 1s 2ms/step - loss: 0.1312 - accuracy: 0.9617 - val_loss: 0.1994 - val_accuracy: 0.9485\n",
            "Epoch 12/50\n",
            "414/414 [==============================] - 1s 2ms/step - loss: 0.1315 - accuracy: 0.9617 - val_loss: 0.1995 - val_accuracy: 0.9485\n",
            "Epoch 13/50\n",
            "414/414 [==============================] - 1s 2ms/step - loss: 0.1297 - accuracy: 0.9617 - val_loss: 0.2005 - val_accuracy: 0.9485\n",
            "Epoch 14/50\n",
            "414/414 [==============================] - 1s 2ms/step - loss: 0.1289 - accuracy: 0.9620 - val_loss: 0.2093 - val_accuracy: 0.9485\n",
            "Epoch 15/50\n",
            "414/414 [==============================] - 1s 2ms/step - loss: 0.1296 - accuracy: 0.9620 - val_loss: 0.2010 - val_accuracy: 0.9485\n",
            "Epoch 16/50\n",
            "414/414 [==============================] - 1s 2ms/step - loss: 0.1284 - accuracy: 0.9614 - val_loss: 0.2161 - val_accuracy: 0.9485\n",
            "Epoch 17/50\n",
            "414/414 [==============================] - 1s 2ms/step - loss: 0.1287 - accuracy: 0.9617 - val_loss: 0.2074 - val_accuracy: 0.9485\n",
            "Epoch 18/50\n",
            "414/414 [==============================] - 1s 2ms/step - loss: 0.1267 - accuracy: 0.9617 - val_loss: 0.2010 - val_accuracy: 0.9485\n",
            "Epoch 19/50\n",
            "414/414 [==============================] - 1s 2ms/step - loss: 0.1272 - accuracy: 0.9620 - val_loss: 0.2072 - val_accuracy: 0.9485\n",
            "Epoch 20/50\n",
            "414/414 [==============================] - 1s 3ms/step - loss: 0.1272 - accuracy: 0.9617 - val_loss: 0.2126 - val_accuracy: 0.9485\n",
            "Epoch 21/50\n",
            "414/414 [==============================] - 1s 2ms/step - loss: 0.1263 - accuracy: 0.9614 - val_loss: 0.2101 - val_accuracy: 0.9485\n",
            "Epoch 22/50\n",
            "414/414 [==============================] - 1s 2ms/step - loss: 0.1257 - accuracy: 0.9617 - val_loss: 0.2221 - val_accuracy: 0.9485\n",
            "Epoch 23/50\n",
            "414/414 [==============================] - 1s 2ms/step - loss: 0.1254 - accuracy: 0.9617 - val_loss: 0.2100 - val_accuracy: 0.9485\n",
            "Epoch 24/50\n",
            "414/414 [==============================] - 1s 2ms/step - loss: 0.1252 - accuracy: 0.9620 - val_loss: 0.2149 - val_accuracy: 0.9485\n",
            "Epoch 25/50\n",
            "414/414 [==============================] - 1s 3ms/step - loss: 0.1247 - accuracy: 0.9617 - val_loss: 0.2114 - val_accuracy: 0.9485\n",
            "Epoch 26/50\n",
            "414/414 [==============================] - 1s 3ms/step - loss: 0.1248 - accuracy: 0.9617 - val_loss: 0.2187 - val_accuracy: 0.9485\n",
            "Epoch 27/50\n",
            "414/414 [==============================] - 1s 2ms/step - loss: 0.1232 - accuracy: 0.9617 - val_loss: 0.2221 - val_accuracy: 0.9485\n",
            "Epoch 28/50\n",
            "414/414 [==============================] - 2s 4ms/step - loss: 0.1237 - accuracy: 0.9617 - val_loss: 0.2336 - val_accuracy: 0.9485\n",
            "Epoch 29/50\n",
            "414/414 [==============================] - 1s 4ms/step - loss: 0.1218 - accuracy: 0.9617 - val_loss: 0.2220 - val_accuracy: 0.9485\n",
            "Epoch 30/50\n",
            "414/414 [==============================] - 1s 3ms/step - loss: 0.1228 - accuracy: 0.9623 - val_loss: 0.2138 - val_accuracy: 0.9485\n",
            "Epoch 31/50\n",
            "414/414 [==============================] - 2s 4ms/step - loss: 0.1218 - accuracy: 0.9620 - val_loss: 0.2217 - val_accuracy: 0.9485\n",
            "Epoch 32/50\n",
            "414/414 [==============================] - 1s 3ms/step - loss: 0.1226 - accuracy: 0.9623 - val_loss: 0.2219 - val_accuracy: 0.9485\n",
            "Epoch 33/50\n",
            "414/414 [==============================] - 1s 2ms/step - loss: 0.1208 - accuracy: 0.9620 - val_loss: 0.2285 - val_accuracy: 0.9485\n",
            "Epoch 34/50\n",
            "414/414 [==============================] - 1s 2ms/step - loss: 0.1224 - accuracy: 0.9626 - val_loss: 0.2201 - val_accuracy: 0.9485\n",
            "Epoch 35/50\n",
            "414/414 [==============================] - 1s 2ms/step - loss: 0.1212 - accuracy: 0.9623 - val_loss: 0.2253 - val_accuracy: 0.9485\n",
            "Epoch 36/50\n",
            "414/414 [==============================] - 1s 2ms/step - loss: 0.1204 - accuracy: 0.9626 - val_loss: 0.2230 - val_accuracy: 0.9485\n",
            "Epoch 37/50\n",
            "414/414 [==============================] - 1s 2ms/step - loss: 0.1205 - accuracy: 0.9623 - val_loss: 0.2338 - val_accuracy: 0.9485\n",
            "Epoch 38/50\n",
            "414/414 [==============================] - 1s 2ms/step - loss: 0.1201 - accuracy: 0.9626 - val_loss: 0.2230 - val_accuracy: 0.9485\n",
            "Epoch 39/50\n",
            "414/414 [==============================] - 1s 2ms/step - loss: 0.1209 - accuracy: 0.9620 - val_loss: 0.2297 - val_accuracy: 0.9485\n",
            "Epoch 40/50\n",
            "414/414 [==============================] - 1s 2ms/step - loss: 0.1185 - accuracy: 0.9629 - val_loss: 0.2300 - val_accuracy: 0.9485\n",
            "Epoch 41/50\n",
            "414/414 [==============================] - 1s 2ms/step - loss: 0.1182 - accuracy: 0.9629 - val_loss: 0.2240 - val_accuracy: 0.9485\n",
            "Epoch 42/50\n",
            "414/414 [==============================] - 1s 2ms/step - loss: 0.1177 - accuracy: 0.9629 - val_loss: 0.2309 - val_accuracy: 0.9458\n",
            "Epoch 43/50\n",
            "414/414 [==============================] - 1s 2ms/step - loss: 0.1181 - accuracy: 0.9617 - val_loss: 0.2325 - val_accuracy: 0.9485\n",
            "Epoch 44/50\n",
            "414/414 [==============================] - 1s 2ms/step - loss: 0.1171 - accuracy: 0.9638 - val_loss: 0.2461 - val_accuracy: 0.9485\n",
            "Epoch 45/50\n",
            "414/414 [==============================] - 1s 2ms/step - loss: 0.1170 - accuracy: 0.9635 - val_loss: 0.2370 - val_accuracy: 0.9485\n",
            "Epoch 46/50\n",
            "414/414 [==============================] - 1s 2ms/step - loss: 0.1171 - accuracy: 0.9632 - val_loss: 0.2326 - val_accuracy: 0.9485\n",
            "Epoch 47/50\n",
            "414/414 [==============================] - 1s 2ms/step - loss: 0.1163 - accuracy: 0.9632 - val_loss: 0.2410 - val_accuracy: 0.9485\n",
            "Epoch 48/50\n",
            "414/414 [==============================] - 1s 2ms/step - loss: 0.1165 - accuracy: 0.9629 - val_loss: 0.2418 - val_accuracy: 0.9485\n",
            "Epoch 49/50\n",
            "414/414 [==============================] - 1s 3ms/step - loss: 0.1141 - accuracy: 0.9626 - val_loss: 0.2355 - val_accuracy: 0.9485\n",
            "Epoch 50/50\n",
            "414/414 [==============================] - 1s 2ms/step - loss: 0.1156 - accuracy: 0.9623 - val_loss: 0.2571 - val_accuracy: 0.9485\n",
            "Time taken to train the model:  51.96314597129822 secs\n"
          ]
        }
      ]
    },
    {
      "cell_type": "code",
      "source": [
        "plt.plot(history.history['accuracy'])\n",
        "plt.plot(history.history['val_accuracy'])\n",
        "plt.title('Model accuracy Plot')\n",
        "plt.ylabel('Accuracy')\n",
        "plt.xlabel('Epoch')\n",
        "plt.legend(['Train', 'Validation'], loc='upper left')\n",
        "plt.show()"
      ],
      "metadata": {
        "id": "OHkWLYGxmZrB",
        "colab": {
          "base_uri": "https://localhost:8080/",
          "height": 295
        },
        "outputId": "26ff7398-5a68-4994-c9f7-cce4113d7481"
      },
      "execution_count": null,
      "outputs": [
        {
          "output_type": "display_data",
          "data": {
            "text/plain": [
              "<Figure size 432x288 with 1 Axes>"
            ],
            "image/png": "[encoded data removed]"
          },
          "metadata": {
            "needs_background": "light"
          }
        }
      ]
    },
    {
      "cell_type": "code",
      "source": [
        "plt.plot(history.history['loss'])\n",
        "plt.plot(history.history['val_loss'])\n",
        "plt.title('Model Loss Plot')\n",
        "plt.ylabel('Loss')\n",
        "plt.xlabel('Epoch')\n",
        "plt.legend(['Train', 'Validation'], loc='upper left')\n",
        "plt.show()"
      ],
      "metadata": {
        "colab": {
          "base_uri": "https://localhost:8080/",
          "height": 295
        },
        "id": "z8940Vlcous3",
        "outputId": "c4b1ef75-5aaa-47f8-911e-0374409aace2"
      },
      "execution_count": null,
      "outputs": [
        {
          "output_type": "display_data",
          "data": {
            "text/plain": [
              "<Figure size 432x288 with 1 Axes>"
            ],
            "image/png": "[encoded data removed]"
          },
          "metadata": {
            "needs_background": "light"
          }
        }
      ]
    },
    {
      "cell_type": "markdown",
      "source": [
        "## Calculate the Accuracy "
      ],
      "metadata": {
        "id": "jDLxCwgS8YNG"
      }
    },
    {
      "cell_type": "code",
      "source": [
        "loss_value , acc_value = model.evaluate( X_te, Y_te  )"
      ],
      "metadata": {
        "colab": {
          "base_uri": "https://localhost:8080/"
        },
        "id": "Nam0G7598ar_",
        "outputId": "74ab6805-ab48-4f39-cc90-c45070a94ef7"
      },
      "execution_count": null,
      "outputs": [
        {
          "output_type": "stream",
          "name": "stdout",
          "text": [
            "39/39 [==============================] - 0s 2ms/step - loss: 0.1915 - accuracy: 0.9479\n"
          ]
        }
      ]
    },
    {
      "cell_type": "code",
      "source": [
        "print(\"Model has accuracy= \",acc_value * 100, \"%\")"
      ],
      "metadata": {
        "colab": {
          "base_uri": "https://localhost:8080/"
        },
        "id": "TEuHGOc08l_H",
        "outputId": "fec32858-520c-4d55-a93e-a5b7d00a5909"
      },
      "execution_count": null,
      "outputs": [
        {
          "output_type": "stream",
          "name": "stdout",
          "text": [
            "Model has accuracy=  94.78827118873596 %\n"
          ]
        }
      ]
    },
    {
      "cell_type": "code",
      "source": [
        "y_pred = model.predict(X_te)"
      ],
      "metadata": {
        "colab": {
          "base_uri": "https://localhost:8080/"
        },
        "id": "8AXEM3VGpWnK",
        "outputId": "66421cc9-d8f9-44ab-ff25-f3f2a4caced4"
      },
      "execution_count": null,
      "outputs": [
        {
          "output_type": "stream",
          "name": "stdout",
          "text": [
            "39/39 [==============================] - 0s 1ms/step\n"
          ]
        }
      ]
    },
    {
      "cell_type": "markdown",
      "source": [
        "## Summary of the model"
      ],
      "metadata": {
        "id": "PyHep6ZV9FQ9"
      }
    },
    {
      "cell_type": "code",
      "source": [
        "model.summary()"
      ],
      "metadata": {
        "colab": {
          "base_uri": "https://localhost:8080/"
        },
        "id": "dwDEVoP69JNn",
        "outputId": "cd19d299-bfc0-400f-e8c1-8cfe5f67c551"
      },
      "execution_count": null,
      "outputs": [
        {
          "output_type": "stream",
          "name": "stdout",
          "text": [
            "Model: \"sequential_1\"\n",
            "_________________________________________________________________\n",
            " Layer (type)                Output Shape              Param #   \n",
            "=================================================================\n",
            " flatten_1 (Flatten)         (None, 10)                0         \n",
            "                                                                 \n",
            " dense_3 (Dense)             (None, 25)                275       \n",
            "                                                                 \n",
            " dense_4 (Dense)             (None, 25)                650       \n",
            "                                                                 \n",
            " dense_5 (Dense)             (None, 1)                 26        \n",
            "                                                                 \n",
            "=================================================================\n",
            "Total params: 951\n",
            "Trainable params: 951\n",
            "Non-trainable params: 0\n",
            "_________________________________________________________________\n"
          ]
        }
      ]
    }
  ]
}